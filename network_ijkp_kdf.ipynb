{
 "cells": [
  {
   "cell_type": "code",
   "execution_count": 1,
   "metadata": {},
   "outputs": [],
   "source": [
    "import networkx as nx\n",
    "import matplotlib.pyplot as plt\n",
    "import numpy as np\n",
    "import pandas as pd\n",
    "import seaborn as sns\n",
    "sns.set_style(\"whitegrid\")\n",
    "%matplotlib inline"
   ]
  },
  {
   "cell_type": "markdown",
   "metadata": {},
   "source": [
    "#### Node Attributes\n",
    "1. Outfacing Edge \n",
    "2. Infacing Edge  \n",
    "3. What can be estimated (Object of node's estimates about  another node) \n",
    "4. What can be controlled  (Object)\n",
    "5. In bandwidth constraint \n",
    "6. Out bandwidth contraint \n",
    "7. List of messages a node has \n",
    "8. Message Sizes\n",
    "8. Storage Capacity for each node\n",
    "8. Proximity Order"
   ]
  },
  {
   "cell_type": "markdown",
   "metadata": {},
   "source": [
    "Edge bandwidth constraint should be min(inbound bandwidth at j, outbound bandwidth at i)"
   ]
  },
  {
   "cell_type": "code",
   "execution_count": 2,
   "metadata": {},
   "outputs": [
    {
     "name": "stdout",
     "output_type": "stream",
     "text": [
      "[{'N': 3, 'T': range(0, 182), 'M': {'block_time': 30, 'i_storage': 500, 'i_in_bandwidth': 500, 'i_out_bandwidth': 140, 'j_storage': 500, 'j_in_bandwidth': 400, 'j_out_bandwidth': 100, 'p_storage': 4000, 'p_in_bandwidth': 400, 'p_out_bandwidth': 600, 'k_storage': 8000, 'k_in_bandwidth': 400, 'k_out_bandwidth': 80, 'j_avail_to_i': 0.9, 'k_avail_to_i': 0.8, 'j_avail_to_k': 0.7, 'p_avail_to_i': 0.6, 'depth': 15}}, {'N': 3, 'T': range(0, 182), 'M': {'block_time': 30, 'i_storage': 500, 'i_in_bandwidth': 1234, 'i_out_bandwidth': 140, 'j_storage': 500, 'j_in_bandwidth': 400, 'j_out_bandwidth': 100, 'p_storage': 4000, 'p_in_bandwidth': 400, 'p_out_bandwidth': 600, 'k_storage': 8000, 'k_in_bandwidth': 400, 'k_out_bandwidth': 80, 'j_avail_to_i': 0.9, 'k_avail_to_i': 0.8, 'j_avail_to_k': 0.7, 'p_avail_to_i': 0.6, 'depth': 15}}]\n",
      "[{'N': 3, 'T': range(0, 182), 'M': {'block_time': 30, 'i_storage': 500, 'i_in_bandwidth': 500, 'i_out_bandwidth': 140, 'j_storage': 500, 'j_in_bandwidth': 400, 'j_out_bandwidth': 100, 'p_storage': 4000, 'p_in_bandwidth': 400, 'p_out_bandwidth': 600, 'k_storage': 8000, 'k_in_bandwidth': 400, 'k_out_bandwidth': 80, 'j_avail_to_i': 0.9, 'k_avail_to_i': 0.8, 'j_avail_to_k': 0.7, 'p_avail_to_i': 0.6, 'depth': 15}}, {'N': 3, 'T': range(0, 182), 'M': {'block_time': 30, 'i_storage': 500, 'i_in_bandwidth': 1234, 'i_out_bandwidth': 140, 'j_storage': 500, 'j_in_bandwidth': 400, 'j_out_bandwidth': 100, 'p_storage': 4000, 'p_in_bandwidth': 400, 'p_out_bandwidth': 600, 'k_storage': 8000, 'k_in_bandwidth': 400, 'k_out_bandwidth': 80, 'j_avail_to_i': 0.9, 'k_avail_to_i': 0.8, 'j_avail_to_k': 0.7, 'p_avail_to_i': 0.6, 'depth': 15}}]\n"
     ]
    }
   ],
   "source": [
    "from src.sim import run"
   ]
  },
  {
   "cell_type": "code",
   "execution_count": 3,
   "metadata": {},
   "outputs": [
    {
     "name": "stdout",
     "output_type": "stream",
     "text": [
      "\n",
      "                            __________   ____ \n",
      "          ________ __ _____/ ____/   |  / __ \\\n",
      "         / ___/ __` / __  / /   / /| | / / / /\n",
      "        / /__/ /_/ / /_/ / /___/ ___ |/ /_/ / \n",
      "        \\___/\\__,_/\\__,_/\\____/_/  |_/_____/  \n",
      "        by BlockScience\n",
      "        \n",
      "Execution Mode: multi_proc: [<cadCAD.configuration.Configuration object at 0x0000024727BEBC88>, <cadCAD.configuration.Configuration object at 0x0000024727BEBCC0>]\n",
      "Configurations: [<cadCAD.configuration.Configuration object at 0x0000024727BEBC88>, <cadCAD.configuration.Configuration object at 0x0000024727BEBCC0>]\n"
     ]
    }
   ],
   "source": [
    "experiments = run.run()"
   ]
  },
  {
   "cell_type": "code",
   "execution_count": 4,
   "metadata": {},
   "outputs": [
    {
     "name": "stdout",
     "output_type": "stream",
     "text": [
      "   index  block_time  i_storage  i_in_bandwidth  i_out_bandwidth  j_storage  \\\n",
      "0      0          30        500             500              140        500   \n",
      "1      0          30        500            1234              140        500   \n",
      "\n",
      "   j_in_bandwidth  j_out_bandwidth  p_storage  p_in_bandwidth  \\\n",
      "0             400              100       4000             400   \n",
      "1             400              100       4000             400   \n",
      "\n",
      "   p_out_bandwidth  k_storage  k_in_bandwidth  k_out_bandwidth  j_avail_to_i  \\\n",
      "0              600       8000             400               80           0.9   \n",
      "1              600       8000             400               80           0.9   \n",
      "\n",
      "   k_avail_to_i  j_avail_to_k  p_avail_to_i  depth  \\\n",
      "0           0.8           0.7           0.6     15   \n",
      "1           0.8           0.7           0.6     15   \n",
      "\n",
      "                                             dataset  \n",
      "0        timestamp message_array  \\\n",
      "0    2020-01-...  \n",
      "1        timestamp message_array  \\\n",
      "0    2020-01-...  \n"
     ]
    }
   ],
   "source": [
    "print(experiments)"
   ]
  },
  {
   "cell_type": "code",
   "execution_count": 5,
   "metadata": {},
   "outputs": [
    {
     "data": {
      "text/plain": [
       "3"
      ]
     },
     "execution_count": 5,
     "metadata": {},
     "output_type": "execute_result"
    }
   ],
   "source": [
    "max(experiments.dataset[0]['run'])"
   ]
  },
  {
   "cell_type": "code",
   "execution_count": 6,
   "metadata": {},
   "outputs": [],
   "source": [
    "first_exp = experiments.dataset[0]"
   ]
  },
  {
   "cell_type": "code",
   "execution_count": 7,
   "metadata": {},
   "outputs": [],
   "source": [
    "end_key = (len(experiments.dataset[0]) / max(experiments.dataset[0]['run']) -1) * max(experiments.dataset[0]['substep'])\n",
    "end_key = int(end_key)"
   ]
  },
  {
   "cell_type": "code",
   "execution_count": 8,
   "metadata": {},
   "outputs": [
    {
     "data": {
      "text/html": [
       "<div>\n",
       "<style scoped>\n",
       "    .dataframe tbody tr th:only-of-type {\n",
       "        vertical-align: middle;\n",
       "    }\n",
       "\n",
       "    .dataframe tbody tr th {\n",
       "        vertical-align: top;\n",
       "    }\n",
       "\n",
       "    .dataframe thead th {\n",
       "        text-align: right;\n",
       "    }\n",
       "</style>\n",
       "<table border=\"1\" class=\"dataframe\">\n",
       "  <thead>\n",
       "    <tr style=\"text-align: right;\">\n",
       "      <th></th>\n",
       "      <th>timestamp</th>\n",
       "      <th>message_array</th>\n",
       "      <th>message_list</th>\n",
       "      <th>file_list</th>\n",
       "      <th>demand</th>\n",
       "      <th>arrival</th>\n",
       "      <th>message_arrival</th>\n",
       "      <th>network</th>\n",
       "      <th>gross_storage_demand</th>\n",
       "      <th>least_storage_demand</th>\n",
       "      <th>PO</th>\n",
       "      <th>test</th>\n",
       "      <th>run</th>\n",
       "      <th>substep</th>\n",
       "      <th>timestep</th>\n",
       "    </tr>\n",
       "  </thead>\n",
       "  <tbody>\n",
       "    <tr>\n",
       "      <th>0</th>\n",
       "      <td>2020-01-01</td>\n",
       "      <td>[[0, 0, 0]]</td>\n",
       "      <td>[[None, None, None], [None, None, None]]</td>\n",
       "      <td>[[None, None, None], [None, None, None]]</td>\n",
       "      <td>0</td>\n",
       "      <td>0</td>\n",
       "      <td>[[None, None, None], [None, None, None]]</td>\n",
       "      <td>(i, j, k, p)</td>\n",
       "      <td>0</td>\n",
       "      <td>0</td>\n",
       "      <td>0</td>\n",
       "      <td>0</td>\n",
       "      <td>1</td>\n",
       "      <td>0</td>\n",
       "      <td>0</td>\n",
       "    </tr>\n",
       "    <tr>\n",
       "      <th>4</th>\n",
       "      <td>2020-01-01</td>\n",
       "      <td>[[0, 0, 0]]</td>\n",
       "      <td>[[None, None, None], [None, None, None], [1620...</td>\n",
       "      <td>[[None, None, None], [None, None, None]]</td>\n",
       "      <td>[1620082912, 166, 1]</td>\n",
       "      <td>[1620079520, 60, 1]</td>\n",
       "      <td>[1620078304, 22, 1]</td>\n",
       "      <td>(i, j, k, p)</td>\n",
       "      <td>0</td>\n",
       "      <td>0</td>\n",
       "      <td>0b11</td>\n",
       "      <td>176</td>\n",
       "      <td>1</td>\n",
       "      <td>4</td>\n",
       "      <td>1</td>\n",
       "    </tr>\n",
       "    <tr>\n",
       "      <th>8</th>\n",
       "      <td>2020-01-01</td>\n",
       "      <td>[[0, 0, 0]]</td>\n",
       "      <td>[[None, None, None], [None, None, None], [1620...</td>\n",
       "      <td>[[None, None, None], [None, None, None]]</td>\n",
       "      <td>[1620077664, 2, 1]</td>\n",
       "      <td>[1620078208, 19, 1]</td>\n",
       "      <td>[1620077632, 1, 1]</td>\n",
       "      <td>(i, j, k, p)</td>\n",
       "      <td>168</td>\n",
       "      <td>168</td>\n",
       "      <td>0b11</td>\n",
       "      <td>8</td>\n",
       "      <td>1</td>\n",
       "      <td>4</td>\n",
       "      <td>2</td>\n",
       "    </tr>\n",
       "    <tr>\n",
       "      <th>12</th>\n",
       "      <td>2020-01-01</td>\n",
       "      <td>[[0, 0, 0]]</td>\n",
       "      <td>[[None, None, None], [None, None, None], [1620...</td>\n",
       "      <td>[[None, None, None], [None, None, None]]</td>\n",
       "      <td>[1620080128, 79, 1]</td>\n",
       "      <td>[1620079616, 63, 1]</td>\n",
       "      <td>[1620080320, 85, 1]</td>\n",
       "      <td>(i, j, k, p)</td>\n",
       "      <td>247</td>\n",
       "      <td>247</td>\n",
       "      <td>0b11</td>\n",
       "      <td>340</td>\n",
       "      <td>1</td>\n",
       "      <td>4</td>\n",
       "      <td>3</td>\n",
       "    </tr>\n",
       "    <tr>\n",
       "      <th>16</th>\n",
       "      <td>2020-01-01</td>\n",
       "      <td>[[0, 0, 0]]</td>\n",
       "      <td>[[None, None, None], [None, None, None], [1620...</td>\n",
       "      <td>[[None, None, None], [None, None, None]]</td>\n",
       "      <td>[1620078688, 34, 1]</td>\n",
       "      <td>[1620079616, 63, 1]</td>\n",
       "      <td>[1620080096, 78, 1]</td>\n",
       "      <td>(i, j, k, p)</td>\n",
       "      <td>281</td>\n",
       "      <td>281</td>\n",
       "      <td>0b11</td>\n",
       "      <td>312</td>\n",
       "      <td>1</td>\n",
       "      <td>4</td>\n",
       "      <td>4</td>\n",
       "    </tr>\n",
       "  </tbody>\n",
       "</table>\n",
       "</div>"
      ],
      "text/plain": [
       "    timestamp message_array  \\\n",
       "0  2020-01-01   [[0, 0, 0]]   \n",
       "4  2020-01-01   [[0, 0, 0]]   \n",
       "8  2020-01-01   [[0, 0, 0]]   \n",
       "12 2020-01-01   [[0, 0, 0]]   \n",
       "16 2020-01-01   [[0, 0, 0]]   \n",
       "\n",
       "                                         message_list  \\\n",
       "0            [[None, None, None], [None, None, None]]   \n",
       "4   [[None, None, None], [None, None, None], [1620...   \n",
       "8   [[None, None, None], [None, None, None], [1620...   \n",
       "12  [[None, None, None], [None, None, None], [1620...   \n",
       "16  [[None, None, None], [None, None, None], [1620...   \n",
       "\n",
       "                                   file_list                demand  \\\n",
       "0   [[None, None, None], [None, None, None]]                     0   \n",
       "4   [[None, None, None], [None, None, None]]  [1620082912, 166, 1]   \n",
       "8   [[None, None, None], [None, None, None]]    [1620077664, 2, 1]   \n",
       "12  [[None, None, None], [None, None, None]]   [1620080128, 79, 1]   \n",
       "16  [[None, None, None], [None, None, None]]   [1620078688, 34, 1]   \n",
       "\n",
       "                arrival                           message_arrival  \\\n",
       "0                     0  [[None, None, None], [None, None, None]]   \n",
       "4   [1620079520, 60, 1]                       [1620078304, 22, 1]   \n",
       "8   [1620078208, 19, 1]                        [1620077632, 1, 1]   \n",
       "12  [1620079616, 63, 1]                       [1620080320, 85, 1]   \n",
       "16  [1620079616, 63, 1]                       [1620080096, 78, 1]   \n",
       "\n",
       "         network  gross_storage_demand  least_storage_demand    PO  test  run  \\\n",
       "0   (i, j, k, p)                     0                     0     0     0    1   \n",
       "4   (i, j, k, p)                     0                     0  0b11   176    1   \n",
       "8   (i, j, k, p)                   168                   168  0b11     8    1   \n",
       "12  (i, j, k, p)                   247                   247  0b11   340    1   \n",
       "16  (i, j, k, p)                   281                   281  0b11   312    1   \n",
       "\n",
       "    substep  timestep  \n",
       "0         0         0  \n",
       "4         4         1  \n",
       "8         4         2  \n",
       "12        4         3  \n",
       "16        4         4  "
      ]
     },
     "execution_count": 8,
     "metadata": {},
     "output_type": "execute_result"
    }
   ],
   "source": [
    "first_exp.head()"
   ]
  },
  {
   "cell_type": "code",
   "execution_count": 9,
   "metadata": {},
   "outputs": [],
   "source": [
    "def draw_net(end_index):\n",
    "    G = experiments.dataset[0]['network'][end_index]\n",
    "    pos = nx.spring_layout(G)\n",
    "    nx.draw_networkx_nodes(G, pos, node_size=700)\n",
    "    nx.draw_networkx_edges(G, pos, width=4)\n",
    "    nx.draw_networkx_labels(G, pos, font_size=10, font_family='sans-serif')\n",
    "    plt.axis('off')\n",
    "    return plt.show()"
   ]
  },
  {
   "cell_type": "code",
   "execution_count": 10,
   "metadata": {},
   "outputs": [],
   "source": [
    "# get end keys for each run\n",
    "N = max(experiments.dataset[0]['run'])\n",
    "key_vals = []\n",
    "for n in range(1,N+1):\n",
    "    subs = max(experiments.dataset[0]['substep'])\n",
    "    times = max(experiments.dataset[0]['timestep'])\n",
    "    if n == 0:\n",
    "        number = n*subs*times\n",
    "    number = n*subs*times + (n-1)\n",
    "    key_vals.append(number)"
   ]
  },
  {
   "cell_type": "code",
   "execution_count": 11,
   "metadata": {},
   "outputs": [
    {
     "data": {
      "image/png": "[encoded data removed]",
      "text/plain": [
       "<Figure size 432x288 with 1 Axes>"
      ]
     },
     "metadata": {},
     "output_type": "display_data"
    },
    {
     "data": {
      "image/png": "[encoded data removed]",
      "text/plain": [
       "<Figure size 432x288 with 1 Axes>"
      ]
     },
     "metadata": {},
     "output_type": "display_data"
    },
    {
     "data": {
      "image/png": "[encoded data removed]",
      "text/plain": [
       "<Figure size 432x288 with 1 Axes>"
      ]
     },
     "metadata": {},
     "output_type": "display_data"
    }
   ],
   "source": [
    "for x in key_vals:\n",
    "    draw_net(x)"
   ]
  },
  {
   "cell_type": "code",
   "execution_count": 12,
   "metadata": {},
   "outputs": [
    {
     "data": {
      "text/plain": [
       "AtlasView({'j': {'traffic': 25}, 'k': {'traffic': 13194}})"
      ]
     },
     "execution_count": 12,
     "metadata": {},
     "output_type": "execute_result"
    }
   ],
   "source": [
    "experiments.dataset[0]['network'][728].adj['i']"
   ]
  },
  {
   "cell_type": "code",
   "execution_count": 13,
   "metadata": {},
   "outputs": [
    {
     "data": {
      "text/plain": [
       "AtlasView({'j': {'traffic': 1}, 'k': {'traffic': 13234}})"
      ]
     },
     "execution_count": 13,
     "metadata": {},
     "output_type": "execute_result"
    }
   ],
   "source": [
    "experiments.dataset[0]['network'][1457].adj['i']"
   ]
  },
  {
   "cell_type": "code",
   "execution_count": 14,
   "metadata": {},
   "outputs": [
    {
     "data": {
      "text/plain": [
       "AtlasView({'j': {'traffic': 71}, 'k': {'traffic': 12196}})"
      ]
     },
     "execution_count": 14,
     "metadata": {},
     "output_type": "execute_result"
    }
   ],
   "source": [
    "experiments.dataset[0]['network'][2186].adj['i']"
   ]
  },
  {
   "cell_type": "code",
   "execution_count": 15,
   "metadata": {},
   "outputs": [
    {
     "data": {
      "text/plain": [
       "[728, 1457, 2186]"
      ]
     },
     "execution_count": 15,
     "metadata": {},
     "output_type": "execute_result"
    }
   ],
   "source": [
    "key_vals"
   ]
  },
  {
   "cell_type": "code",
   "execution_count": 16,
   "metadata": {},
   "outputs": [],
   "source": [
    "# by_run = experiments.dataset[1].groupby(['run'])\n",
    "# by_run['network'].head()"
   ]
  },
  {
   "cell_type": "code",
   "execution_count": 17,
   "metadata": {},
   "outputs": [],
   "source": [
    "# traffic =np.zeros(1)\n",
    "\n",
    "# for x in key_vals:\n",
    "#     run_start = \n",
    "#     n=0\n",
    "#     if n <= x:\n",
    "#         for n in range(0,x,4):\n",
    "#             i_to_k = experiments.dataset[1]['network'][n].adj['i']['k']['traffic']\n",
    "#             i_to_j = experiments.dataset[1]['network'][n].adj['i']['j']['traffic']\n",
    "#             total = i_to_k + i_to_j\n",
    "#             traffic = np.vstack((traffic,total))"
   ]
  },
  {
   "cell_type": "code",
   "execution_count": 18,
   "metadata": {},
   "outputs": [],
   "source": [
    "traffic =np.zeros(1)\n",
    "traffic2 =np.zeros(1)\n",
    "traffic3 =np.zeros(1)\n",
    "\n",
    "ftraffic =np.zeros(1)\n",
    "ftraffic2 =np.zeros(1)\n",
    "ftraffic3 =np.zeros(1)\n",
    "\n",
    "for n in range(0,728,4):\n",
    "    i_to_k = experiments.dataset[1]['network'][n].adj['i']['k']['traffic']\n",
    "    i_to_j = experiments.dataset[1]['network'][n].adj['i']['j']['traffic']\n",
    "    k_to_j = experiments.dataset[1]['network'][n].adj['k']['j']['traffic']\n",
    "    total = i_to_k + i_to_j + k_to_j \n",
    "    traffic = np.vstack((traffic,total))\n",
    "    ftotal = experiments.dataset[1]['test'][n] + i_to_k + i_to_j + k_to_j \n",
    "    ftraffic  = np.vstack((ftraffic,ftotal))\n",
    "    \n",
    "for n in range(733,1457,4):\n",
    "    i_to_k = experiments.dataset[1]['network'][n].adj['i']['k']['traffic']\n",
    "    i_to_j = experiments.dataset[1]['network'][n].adj['i']['j']['traffic']\n",
    "    k_to_j = experiments.dataset[1]['network'][n].adj['k']['j']['traffic']\n",
    "    total = i_to_k + i_to_j + k_to_j \n",
    "    traffic2 = np.vstack((traffic2,total))\n",
    "    ftotal = experiments.dataset[1]['test'][n] + i_to_k + i_to_j + k_to_j \n",
    "    ftraffic2  = np.vstack((ftraffic2,ftotal))\n",
    "\n",
    "for n in range(1458,2186,4):\n",
    "    i_to_k = experiments.dataset[1]['network'][n].adj['i']['k']['traffic']\n",
    "    i_to_j = experiments.dataset[1]['network'][n].adj['i']['j']['traffic']\n",
    "    k_to_j = experiments.dataset[1]['network'][n].adj['k']['j']['traffic']\n",
    "    total = i_to_k + i_to_j + k_to_j \n",
    "    traffic3 = np.vstack((traffic3,total))\n",
    "    ftotal = experiments.dataset[1]['test'][n] + i_to_k + i_to_j + k_to_j \n",
    "    ftraffic3  = np.vstack((ftraffic3,ftotal))"
   ]
  },
  {
   "cell_type": "code",
   "execution_count": 19,
   "metadata": {},
   "outputs": [
    {
     "data": {
      "image/png": "[encoded data removed]",
      "text/plain": [
       "<Figure size 720x432 with 1 Axes>"
      ]
     },
     "metadata": {
      "needs_background": "light"
     },
     "output_type": "display_data"
    }
   ],
   "source": [
    "plt.figure(figsize=(10,6))\n",
    "plt.plot(traffic)\n",
    "plt.plot(traffic2)\n",
    "plt.plot(traffic3)\n",
    "plt.plot(ftraffic)\n",
    "plt.plot(ftraffic2)\n",
    "plt.plot(ftraffic3)\n",
    "plt.title('Iterative Kademlia')\n",
    "plt.xlabel('Time')\n",
    "plt.ylabel('Traffic per Time')\n",
    "plt.show()"
   ]
  },
  {
   "cell_type": "code",
   "execution_count": 20,
   "metadata": {},
   "outputs": [
    {
     "data": {
      "image/png": "[encoded data removed]",
      "text/plain": [
       "<Figure size 720x432 with 1 Axes>"
      ]
     },
     "metadata": {
      "needs_background": "light"
     },
     "output_type": "display_data"
    }
   ],
   "source": [
    "plt.figure(figsize=(10,6))\n",
    "plt.plot(traffic)\n",
    "plt.plot(traffic2)\n",
    "plt.plot(traffic3)\n",
    "\n",
    "plt.title('Original Kademlia')\n",
    "plt.xlabel('Time')\n",
    "plt.ylabel('Traffic per Time')\n",
    "dir_name = 'images/'\n",
    "file_name = 'orig_traffic'\n",
    "plt.savefig(dir_name+file_name)\n",
    "plt.show()"
   ]
  },
  {
   "cell_type": "code",
   "execution_count": 21,
   "metadata": {},
   "outputs": [
    {
     "data": {
      "image/png": "[encoded data removed]",
      "text/plain": [
       "<Figure size 720x432 with 1 Axes>"
      ]
     },
     "metadata": {
      "needs_background": "light"
     },
     "output_type": "display_data"
    }
   ],
   "source": [
    "plt.figure(figsize=(10,6))\n",
    "plt.plot(ftraffic, color = 'm')\n",
    "plt.plot(ftraffic2, color = 'k')\n",
    "plt.plot(ftraffic3, color= 'r')\n",
    "plt.title('Forwarding Kademlia')\n",
    "plt.xlabel('Time')\n",
    "plt.ylabel('Traffic per Time')\n",
    "\n",
    "dir_name = 'images/'\n",
    "file_name = 'forwarding_traffic'\n",
    "plt.savefig(dir_name+file_name)\n",
    "plt.show()"
   ]
  },
  {
   "cell_type": "code",
   "execution_count": 22,
   "metadata": {},
   "outputs": [
    {
     "data": {
      "image/png": "[encoded data removed]",
      "text/plain": [
       "<Figure size 720x432 with 1 Axes>"
      ]
     },
     "metadata": {
      "needs_background": "light"
     },
     "output_type": "display_data"
    }
   ],
   "source": [
    "plt.figure(figsize=(10,6))\n",
    "plt.plot(traffic.cumsum())\n",
    "plt.plot(traffic2.cumsum())\n",
    "plt.plot(traffic3.cumsum())\n",
    "plt.title('Original Kademlia')\n",
    "\n",
    "plt.yscale('log')\n",
    "plt.xlabel('Time')\n",
    "plt.ylabel('Total Traffic')\n",
    "\n",
    "dir_name = 'images/'\n",
    "file_name = 'orig_cumul_traffic'\n",
    "plt.savefig(dir_name+file_name)\n",
    "plt.show()"
   ]
  },
  {
   "cell_type": "code",
   "execution_count": 23,
   "metadata": {},
   "outputs": [
    {
     "data": {
      "image/png": "[encoded data removed]",
      "text/plain": [
       "<Figure size 720x432 with 1 Axes>"
      ]
     },
     "metadata": {
      "needs_background": "light"
     },
     "output_type": "display_data"
    }
   ],
   "source": [
    "plt.figure(figsize=(10,6))\n",
    "\n",
    "plt.plot(ftraffic.cumsum(), color = 'm')\n",
    "plt.plot(ftraffic2.cumsum(), color = 'k')\n",
    "plt.plot(ftraffic3.cumsum(), color= 'r')\n",
    "plt.title('Forwarding Kademlia')\n",
    "\n",
    "plt.yscale('log')\n",
    "plt.xlabel('Time')\n",
    "plt.ylabel('Total Traffic')\n",
    "\n",
    "dir_name = 'images/'\n",
    "file_name = 'forwarding_cumul_traffic'\n",
    "plt.savefig(dir_name+file_name)\n",
    "plt.show()"
   ]
  },
  {
   "cell_type": "code",
   "execution_count": 24,
   "metadata": {},
   "outputs": [
    {
     "data": {
      "image/png": "[encoded data removed]",
      "text/plain": [
       "<Figure size 720x432 with 1 Axes>"
      ]
     },
     "metadata": {
      "needs_background": "light"
     },
     "output_type": "display_data"
    }
   ],
   "source": [
    "plt.figure(figsize=(10,6))\n",
    "plt.plot(traffic, label = \"Original\")\n",
    "plt.plot(ftraffic, color = 'm', label = \"Forwarding\")\n",
    "\n",
    "plt.title('Kademlia Comparison')\n",
    "plt.legend(bbox_to_anchor=(0.8, 0.5), loc=2, borderaxespad=0.)\n",
    "\n",
    "\n",
    "plt.xlabel('Time')\n",
    "plt.ylabel('Traffic per Time')\n",
    "\n",
    "dir_name = 'images/'\n",
    "file_name = 'comp_traffic'\n",
    "plt.savefig(dir_name+file_name)\n",
    "plt.show()"
   ]
  },
  {
   "cell_type": "code",
   "execution_count": 25,
   "metadata": {},
   "outputs": [
    {
     "data": {
      "image/png": "[encoded data removed]",
      "text/plain": [
       "<Figure size 720x432 with 1 Axes>"
      ]
     },
     "metadata": {
      "needs_background": "light"
     },
     "output_type": "display_data"
    }
   ],
   "source": [
    "plt.figure(figsize=(10,6))\n",
    "plt.plot(traffic.cumsum(), label = \"Original\")\n",
    "plt.plot(ftraffic.cumsum(), color = 'm', label = \"Forwarding\")\n",
    "\n",
    "plt.title('Kademlia Comparison')\n",
    "plt.legend(bbox_to_anchor=(0.8, 0.5), loc=2, borderaxespad=0.)\n",
    "\n",
    "plt.yscale('log')\n",
    "plt.xlabel('Time')\n",
    "plt.ylabel('Total Traffic')\n",
    "\n",
    "dir_name = 'images/'\n",
    "file_name = 'comp_cumul_traffic'\n",
    "plt.savefig(dir_name+file_name)\n",
    "plt.show()"
   ]
  },
  {
   "cell_type": "code",
   "execution_count": 26,
   "metadata": {},
   "outputs": [
    {
     "data": {
      "text/plain": [
       "<networkx.classes.digraph.DiGraph at 0x24728a59390>"
      ]
     },
     "execution_count": 26,
     "metadata": {},
     "output_type": "execute_result"
    }
   ],
   "source": [
    "time_ten = max(experiments.dataset[0]['substep']) * 10\n",
    "experiments.dataset[0]['network'][time_ten] "
   ]
  },
  {
   "cell_type": "code",
   "execution_count": 27,
   "metadata": {},
   "outputs": [
    {
     "data": {
      "text/plain": [
       "0         0\n",
       "4       224\n",
       "8       152\n",
       "12       24\n",
       "16      448\n",
       "       ... \n",
       "2170     64\n",
       "2174      0\n",
       "2178    260\n",
       "2182    108\n",
       "2186    148\n",
       "Name: test, Length: 549, dtype: int64"
      ]
     },
     "execution_count": 27,
     "metadata": {},
     "output_type": "execute_result"
    }
   ],
   "source": [
    "experiments.dataset[1]['test']"
   ]
  },
  {
   "cell_type": "code",
   "execution_count": 28,
   "metadata": {},
   "outputs": [],
   "source": [
    "# nunique = experiments[[item for item in experiments.columns if item not in ['dataset']]].applymap(str).apply(pd.Series.nunique)\n",
    "# cols_to_drop = nunique[nunique == 1].index\n",
    "# experiments_full = experiments.copy()\n",
    "# experiments = experiments.drop(cols_to_drop, axis=1)\n",
    "# experiments = experiments_full"
   ]
  },
  {
   "cell_type": "code",
   "execution_count": 29,
   "metadata": {},
   "outputs": [
    {
     "data": {
      "text/html": [
       "<div>\n",
       "<style scoped>\n",
       "    .dataframe tbody tr th:only-of-type {\n",
       "        vertical-align: middle;\n",
       "    }\n",
       "\n",
       "    .dataframe tbody tr th {\n",
       "        vertical-align: top;\n",
       "    }\n",
       "\n",
       "    .dataframe thead th {\n",
       "        text-align: right;\n",
       "    }\n",
       "</style>\n",
       "<table border=\"1\" class=\"dataframe\">\n",
       "  <thead>\n",
       "    <tr style=\"text-align: right;\">\n",
       "      <th></th>\n",
       "      <th>index</th>\n",
       "      <th>block_time</th>\n",
       "      <th>i_storage</th>\n",
       "      <th>i_in_bandwidth</th>\n",
       "      <th>i_out_bandwidth</th>\n",
       "      <th>j_storage</th>\n",
       "      <th>j_in_bandwidth</th>\n",
       "      <th>j_out_bandwidth</th>\n",
       "      <th>p_storage</th>\n",
       "      <th>p_in_bandwidth</th>\n",
       "      <th>p_out_bandwidth</th>\n",
       "      <th>k_storage</th>\n",
       "      <th>k_in_bandwidth</th>\n",
       "      <th>k_out_bandwidth</th>\n",
       "      <th>j_avail_to_i</th>\n",
       "      <th>k_avail_to_i</th>\n",
       "      <th>j_avail_to_k</th>\n",
       "      <th>p_avail_to_i</th>\n",
       "      <th>depth</th>\n",
       "      <th>dataset</th>\n",
       "    </tr>\n",
       "  </thead>\n",
       "  <tbody>\n",
       "    <tr>\n",
       "      <th>0</th>\n",
       "      <td>0</td>\n",
       "      <td>30</td>\n",
       "      <td>500</td>\n",
       "      <td>500</td>\n",
       "      <td>140</td>\n",
       "      <td>500</td>\n",
       "      <td>400</td>\n",
       "      <td>100</td>\n",
       "      <td>4000</td>\n",
       "      <td>400</td>\n",
       "      <td>600</td>\n",
       "      <td>8000</td>\n",
       "      <td>400</td>\n",
       "      <td>80</td>\n",
       "      <td>0.9</td>\n",
       "      <td>0.8</td>\n",
       "      <td>0.7</td>\n",
       "      <td>0.6</td>\n",
       "      <td>15</td>\n",
       "      <td>timestamp message_array  \\\n",
       "0    2020-01-...</td>\n",
       "    </tr>\n",
       "    <tr>\n",
       "      <th>1</th>\n",
       "      <td>0</td>\n",
       "      <td>30</td>\n",
       "      <td>500</td>\n",
       "      <td>1234</td>\n",
       "      <td>140</td>\n",
       "      <td>500</td>\n",
       "      <td>400</td>\n",
       "      <td>100</td>\n",
       "      <td>4000</td>\n",
       "      <td>400</td>\n",
       "      <td>600</td>\n",
       "      <td>8000</td>\n",
       "      <td>400</td>\n",
       "      <td>80</td>\n",
       "      <td>0.9</td>\n",
       "      <td>0.8</td>\n",
       "      <td>0.7</td>\n",
       "      <td>0.6</td>\n",
       "      <td>15</td>\n",
       "      <td>timestamp message_array  \\\n",
       "0    2020-01-...</td>\n",
       "    </tr>\n",
       "  </tbody>\n",
       "</table>\n",
       "</div>"
      ],
      "text/plain": [
       "   index  block_time  i_storage  i_in_bandwidth  i_out_bandwidth  j_storage  \\\n",
       "0      0          30        500             500              140        500   \n",
       "1      0          30        500            1234              140        500   \n",
       "\n",
       "   j_in_bandwidth  j_out_bandwidth  p_storage  p_in_bandwidth  \\\n",
       "0             400              100       4000             400   \n",
       "1             400              100       4000             400   \n",
       "\n",
       "   p_out_bandwidth  k_storage  k_in_bandwidth  k_out_bandwidth  j_avail_to_i  \\\n",
       "0              600       8000             400               80           0.9   \n",
       "1              600       8000             400               80           0.9   \n",
       "\n",
       "   k_avail_to_i  j_avail_to_k  p_avail_to_i  depth  \\\n",
       "0           0.8           0.7           0.6     15   \n",
       "1           0.8           0.7           0.6     15   \n",
       "\n",
       "                                             dataset  \n",
       "0        timestamp message_array  \\\n",
       "0    2020-01-...  \n",
       "1        timestamp message_array  \\\n",
       "0    2020-01-...  "
      ]
     },
     "execution_count": 29,
     "metadata": {},
     "output_type": "execute_result"
    }
   ],
   "source": [
    "experiments.head()"
   ]
  },
  {
   "cell_type": "code",
   "execution_count": 30,
   "metadata": {},
   "outputs": [],
   "source": [
    "end_of_first_experiment = experiments.dataset[0]"
   ]
  },
  {
   "cell_type": "code",
   "execution_count": 31,
   "metadata": {},
   "outputs": [
    {
     "data": {
      "text/plain": [
       "0          0\n",
       "4       0b11\n",
       "8       0b11\n",
       "12      0b11\n",
       "16      0b11\n",
       "        ... \n",
       "2170    0b11\n",
       "2174    0b11\n",
       "2178    0b11\n",
       "2182    0b11\n",
       "2186    0b11\n",
       "Name: PO, Length: 549, dtype: object"
      ]
     },
     "execution_count": 31,
     "metadata": {},
     "output_type": "execute_result"
    }
   ],
   "source": [
    "end_of_first_experiment.PO"
   ]
  },
  {
   "cell_type": "code",
   "execution_count": 32,
   "metadata": {},
   "outputs": [
    {
     "data": {
      "text/plain": [
       "[[1620082912, 166, 3],\n",
       " [1620077664, 2, 1],\n",
       " [1620080128, 79, 5],\n",
       " [1620078688, 34, 1],\n",
       " [1620083872, 196, 7],\n",
       " [1620080000, 75, 3],\n",
       " [1620081952, 136, 3],\n",
       " [1620081504, 122, 1],\n",
       " [1620079264, 52, 1],\n",
       " [1620077728, 4, 1],\n",
       " [1620081120, 110, 1],\n",
       " [1620083360, 180, 1],\n",
       " [1620082112, 141, 3],\n",
       " [1620083072, 171, 1],\n",
       " [1620079488, 59, 5]]"
      ]
     },
     "execution_count": 32,
     "metadata": {},
     "output_type": "execute_result"
    }
   ],
   "source": [
    "# Remove None from message list\n",
    "message_list = list(filter(any, experiments.dataset[0]['message_list'][end_key])) \n",
    "# message_list = [i for i in experiments.dataset[0]['message_list'][540] if i] \n",
    "message_list[0:15]"
   ]
  },
  {
   "cell_type": "code",
   "execution_count": 33,
   "metadata": {},
   "outputs": [
    {
     "data": {
      "text/plain": [
       "481"
      ]
     },
     "execution_count": 33,
     "metadata": {},
     "output_type": "execute_result"
    }
   ],
   "source": [
    "experiments.dataset[0]['network'][time_ten].nodes['i']['current_capacity']"
   ]
  },
  {
   "cell_type": "code",
   "execution_count": 34,
   "metadata": {},
   "outputs": [
    {
     "data": {
      "text/plain": [
       "array([[1620082912,        166,          3],\n",
       "       [1620077664,          2,          1],\n",
       "       [1620080128,         79,          5],\n",
       "       [1620078688,         34,          1],\n",
       "       [1620083872,        196,          7]])"
      ]
     },
     "execution_count": 34,
     "metadata": {},
     "output_type": "execute_result"
    }
   ],
   "source": [
    "message_array = np.array(message_list[0:5])\n",
    "message_array"
   ]
  },
  {
   "cell_type": "code",
   "execution_count": 35,
   "metadata": {},
   "outputs": [
    {
     "data": {
      "text/plain": [
       "477"
      ]
     },
     "execution_count": 35,
     "metadata": {},
     "output_type": "execute_result"
    }
   ],
   "source": [
    "# Lower limit of Message Storage Demand , No Double Storage\n",
    "message_array[:,1].sum()"
   ]
  },
  {
   "cell_type": "code",
   "execution_count": 36,
   "metadata": {},
   "outputs": [
    {
     "data": {
      "text/plain": [
       "174783392"
      ]
     },
     "execution_count": 36,
     "metadata": {},
     "output_type": "execute_result"
    }
   ],
   "source": [
    "message_array[:,1:2].prod()"
   ]
  },
  {
   "cell_type": "code",
   "execution_count": 37,
   "metadata": {},
   "outputs": [
    {
     "data": {
      "text/plain": [
       "array([ 498,    2,  395,   34, 1372])"
      ]
     },
     "execution_count": 37,
     "metadata": {},
     "output_type": "execute_result"
    }
   ],
   "source": [
    "np.multiply(message_array[:,1], message_array[:,2])"
   ]
  },
  {
   "cell_type": "code",
   "execution_count": 38,
   "metadata": {},
   "outputs": [
    {
     "data": {
      "text/plain": [
       "2301"
      ]
     },
     "execution_count": 38,
     "metadata": {},
     "output_type": "execute_result"
    }
   ],
   "source": [
    "np.sum(np.multiply(message_array[:,1], message_array[:,2]))"
   ]
  },
  {
   "cell_type": "code",
   "execution_count": 39,
   "metadata": {},
   "outputs": [
    {
     "data": {
      "text/plain": [
       "[1620078400, 25, 1]"
      ]
     },
     "execution_count": 39,
     "metadata": {},
     "output_type": "execute_result"
    }
   ],
   "source": [
    "experiments.dataset[0]['arrival'][time_ten]"
   ]
  },
  {
   "cell_type": "code",
   "execution_count": 40,
   "metadata": {},
   "outputs": [
    {
     "data": {
      "text/plain": [
       "[1620077728, 4, 1]"
      ]
     },
     "execution_count": 40,
     "metadata": {},
     "output_type": "execute_result"
    }
   ],
   "source": [
    "experiments.dataset[0]['demand'][time_ten]"
   ]
  },
  {
   "cell_type": "code",
   "execution_count": 41,
   "metadata": {},
   "outputs": [
    {
     "data": {
      "text/plain": [
       "866"
      ]
     },
     "execution_count": 41,
     "metadata": {},
     "output_type": "execute_result"
    }
   ],
   "source": [
    "experiments.dataset[0]['least_storage_demand'][time_ten]"
   ]
  },
  {
   "cell_type": "code",
   "execution_count": 42,
   "metadata": {},
   "outputs": [
    {
     "data": {
      "text/plain": [
       "{'neighbor_estimate': {'j_avail_to_i': array([0.96]),\n",
       "  'k_avail_to_i': array([0.89]),\n",
       "  'p_avail_to_i': [0.6]},\n",
       " 'storage_capacity': [500],\n",
       " 'current_storage': [[None, None, None],\n",
       "  [None, None, None],\n",
       "  [1620082912, 166, 3],\n",
       "  [1620077664, 2, 1],\n",
       "  [1620080128, 79, 5],\n",
       "  [1620078688, 34, 1],\n",
       "  [1620083872, 196, 7],\n",
       "  [1620077728, 4, 1],\n",
       "  [1620077920, 10, 1],\n",
       "  [1620077696, 3, 3],\n",
       "  [1620077792, 6, 3]],\n",
       " 'current_capacity': 500,\n",
       " 'inband': 500,\n",
       " 'outband': [140],\n",
       " 'message_history': [[None, None, None], [None, None, None]],\n",
       " 'control': [],\n",
       " 'id': 12,\n",
       " 'routing_table': [['i', 12, '0b1100', 0, '0b1100'],\n",
       "  ['j', 14, '0b1110', 2, '0b11'],\n",
       "  ['k', 0, '0b0000', 12, '0b'],\n",
       "  ['p', 0, '0b0000', 12, '0b']]}"
      ]
     },
     "execution_count": 42,
     "metadata": {},
     "output_type": "execute_result"
    }
   ],
   "source": [
    "experiments.dataset[0]['network'][end_key].nodes['i']"
   ]
  },
  {
   "cell_type": "code",
   "execution_count": 43,
   "metadata": {},
   "outputs": [
    {
     "data": {
      "text/plain": [
       "{'j_avail_to_i': array([0.96]),\n",
       " 'k_avail_to_i': array([0.89]),\n",
       " 'p_avail_to_i': [0.6]}"
      ]
     },
     "execution_count": 43,
     "metadata": {},
     "output_type": "execute_result"
    }
   ],
   "source": [
    "experiments.dataset[0]['network'][end_key].nodes['i']['neighbor_estimate']"
   ]
  },
  {
   "cell_type": "code",
   "execution_count": 44,
   "metadata": {},
   "outputs": [
    {
     "data": {
      "text/plain": [
       "[['i', 12, '0b1100', 0, '0b1100'],\n",
       " ['j', 14, '0b1110', 2, '0b11'],\n",
       " ['k', 0, '0b0000', 12, '0b'],\n",
       " ['p', 0, '0b0000', 12, '0b']]"
      ]
     },
     "execution_count": 44,
     "metadata": {},
     "output_type": "execute_result"
    }
   ],
   "source": [
    "experiments.dataset[0]['network'][end_key].nodes['i']['routing_table']"
   ]
  },
  {
   "cell_type": "code",
   "execution_count": 45,
   "metadata": {},
   "outputs": [
    {
     "data": {
      "text/plain": [
       "{'j_avail_to_i': array([0.95]),\n",
       " 'k_avail_to_i': array([0.83]),\n",
       " 'p_avail_to_i': [0.6]}"
      ]
     },
     "execution_count": 45,
     "metadata": {},
     "output_type": "execute_result"
    }
   ],
   "source": [
    "experiments.dataset[0]['network'][1457].nodes['i']['neighbor_estimate']"
   ]
  },
  {
   "cell_type": "code",
   "execution_count": 46,
   "metadata": {},
   "outputs": [
    {
     "data": {
      "text/plain": [
       "[['i', 12, '0b1100', 0, '0b1100'],\n",
       " ['j', 14, '0b1110', 2, '0b11'],\n",
       " ['k', 0, '0b0000', 12, '0b'],\n",
       " ['p', 0, '0b0000', 12, '0b']]"
      ]
     },
     "execution_count": 46,
     "metadata": {},
     "output_type": "execute_result"
    }
   ],
   "source": [
    "experiments.dataset[0]['network'][1457].nodes['i']['routing_table']"
   ]
  },
  {
   "cell_type": "code",
   "execution_count": 47,
   "metadata": {},
   "outputs": [
    {
     "data": {
      "text/plain": [
       "{'neighbor_estimate': {'j_avail_to_i': array([0.94]),\n",
       "  'k_avail_to_i': array([0.93]),\n",
       "  'p_avail_to_i': [0.6]},\n",
       " 'storage_capacity': [500],\n",
       " 'current_storage': [[None, None, None],\n",
       "  [None, None, None],\n",
       "  [1620079392, 56, 5],\n",
       "  [1620080288, 84, 7],\n",
       "  [1620082624, 157, 1],\n",
       "  [1620077792, 6, 7],\n",
       "  [1620081248, 114, 5],\n",
       "  [1620079136, 48, 1],\n",
       "  [1620077824, 7, 3],\n",
       "  [1620078208, 19, 5],\n",
       "  [1620077632, 1, 1],\n",
       "  [1620077696, 3, 1],\n",
       "  [1620077760, 5, 1]],\n",
       " 'current_capacity': 500,\n",
       " 'inband': 1234,\n",
       " 'outband': [140],\n",
       " 'message_history': [[None, None, None], [None, None, None]],\n",
       " 'control': [],\n",
       " 'id': 12,\n",
       " 'routing_table': [['i', 12, '0b1100', 0, '0b1100'],\n",
       "  ['j', 14, '0b1110', 2, '0b11'],\n",
       "  ['k', 0, '0b0000', 12, '0b'],\n",
       "  ['p', 0, '0b0000', 12, '0b']]}"
      ]
     },
     "execution_count": 47,
     "metadata": {},
     "output_type": "execute_result"
    }
   ],
   "source": [
    "experiments.dataset[1]['network'][end_key].nodes['i']"
   ]
  },
  {
   "cell_type": "code",
   "execution_count": 48,
   "metadata": {
    "scrolled": false
   },
   "outputs": [
    {
     "data": {
      "text/plain": [
       "{'neighbor_estimate': {'storage from i': 6,\n",
       "  'storage from k': 0,\n",
       "  'messages from i': 182,\n",
       "  'messages from k': 0},\n",
       " 'storage_capacity': [500],\n",
       " 'current_storage': [[None, None, None],\n",
       "  [None, None, None],\n",
       "  [1620083456, 183, 1],\n",
       "  [1620083296, 178, 1],\n",
       "  [1620080960, 105, 3],\n",
       "  [1620078656, 33, 3]],\n",
       " 'current_capacity': 499,\n",
       " 'inband': [400],\n",
       " 'outband': [100],\n",
       " 'message_history': [[None, None, None],\n",
       "  [None, None, None],\n",
       "  [1620078496, 28, 1],\n",
       "  [1620078208, 19, 1],\n",
       "  [1620077696, 3, 1],\n",
       "  [1620079392, 56, 1],\n",
       "  [0, 0, 177],\n",
       "  [1620077856, 8, 1]],\n",
       " 'control': [],\n",
       " 'id': 14,\n",
       " 'routing_table': [['i', 12, '0b1100', 2, '0b11'],\n",
       "  ['j', 14, '0b1110', 0, '0b1110'],\n",
       "  ['k', 0, '0b0000', 14, '0b'],\n",
       "  ['p', 0, '0b0000', 14, '0b']]}"
      ]
     },
     "execution_count": 48,
     "metadata": {},
     "output_type": "execute_result"
    }
   ],
   "source": [
    "experiments.dataset[1]['network'][end_key].nodes['j']"
   ]
  },
  {
   "cell_type": "code",
   "execution_count": 49,
   "metadata": {
    "scrolled": false
   },
   "outputs": [
    {
     "data": {
      "text/plain": [
       "{'neighbor_estimate': {'storage from i': 117,\n",
       "  'messages from i': 0,\n",
       "  'j_avail_to_k': array([0.82])},\n",
       " 'storage_capacity': [8000],\n",
       " 'current_storage': [[None, None, None],\n",
       "  [None, None, None],\n",
       "  [1620082464, 152, 5],\n",
       "  [1620083648, 189, 3],\n",
       "  [1620082240, 145, 3],\n",
       "  [1620081952, 136, 3],\n",
       "  [1620080608, 94, 1],\n",
       "  [1620082144, 142, 5],\n",
       "  [1620079232, 51, 3],\n",
       "  [1620080640, 95, 3],\n",
       "  [1620082656, 158, 1],\n",
       "  [1620082816, 163, 1],\n",
       "  [1620079840, 70, 5],\n",
       "  [1620079584, 62, 3],\n",
       "  [1620080192, 81, 3],\n",
       "  [1620081568, 124, 3],\n",
       "  [1620080864, 102, 3],\n",
       "  [1620082080, 140, 1],\n",
       "  [1620081472, 121, 1],\n",
       "  [1620079296, 53, 1],\n",
       "  [1620080000, 75, 3],\n",
       "  [1620078784, 37, 1],\n",
       "  [1620081024, 107, 3],\n",
       "  [1620079872, 71, 3],\n",
       "  [1620082304, 147, 3],\n",
       "  [1620080064, 77, 1],\n",
       "  [1620081312, 116, 7],\n",
       "  [1620083904, 197, 3],\n",
       "  [1620080768, 99, 1],\n",
       "  [1620080160, 80, 3],\n",
       "  [1620082912, 166, 5],\n",
       "  [1620083744, 192, 1],\n",
       "  [1620079328, 54, 1],\n",
       "  [1620079744, 67, 3],\n",
       "  [1620083104, 172, 1],\n",
       "  [1620081632, 126, 5],\n",
       "  [1620082208, 144, 1],\n",
       "  [1620082560, 155, 1],\n",
       "  [1620078976, 43, 1],\n",
       "  [1620083008, 169, 1],\n",
       "  [1620083680, 190, 3],\n",
       "  [1620083712, 191, 1],\n",
       "  [1620082048, 139, 5],\n",
       "  [1620083072, 171, 1],\n",
       "  [1620081344, 117, 3],\n",
       "  [1620081856, 133, 1],\n",
       "  [1620082016, 138, 1],\n",
       "  [1620083168, 174, 1],\n",
       "  [1620083808, 194, 1],\n",
       "  [1620078912, 41, 3],\n",
       "  [1620081696, 128, 3],\n",
       "  [1620078304, 22, 1],\n",
       "  [1620078432, 26, 1],\n",
       "  [1620078048, 14, 1],\n",
       "  [1620078464, 27, 1],\n",
       "  [1620081504, 122, 1],\n",
       "  [1620079936, 73, 3],\n",
       "  [1620078368, 24, 3],\n",
       "  [1620081152, 111, 3],\n",
       "  [1620078240, 20, 1],\n",
       "  [1620080384, 87, 1],\n",
       "  [1620081888, 134, 1],\n",
       "  [1620079968, 74, 3],\n",
       "  [1620082528, 154, 3],\n",
       "  [1620078400, 25, 1],\n",
       "  [1620081088, 109, 1],\n",
       "  [1620082688, 159, 1],\n",
       "  [1620080096, 78, 1],\n",
       "  [1620079264, 52, 1],\n",
       "  [1620082720, 160, 3],\n",
       "  [1620078752, 36, 1],\n",
       "  [1620083200, 175, 3],\n",
       "  [1620081408, 119, 1],\n",
       "  [1620083488, 184, 3],\n",
       "  [1620077856, 8, 1],\n",
       "  [1620078112, 16, 1]],\n",
       " 'current_capacity': 7997,\n",
       " 'inband': [400],\n",
       " 'outband': [80],\n",
       " 'message_history': [[None, None, None], [None, None, None]],\n",
       " 'control': [],\n",
       " 'id': 0,\n",
       " 'routing_table': [['i', 12, '0b1100', 12, '0b'],\n",
       "  ['j', 14, '0b1110', 14, '0b'],\n",
       "  ['k', 0, '0b0000', 0, '0b0000'],\n",
       "  ['p', 0, '0b0000', 0, '0b0000']]}"
      ]
     },
     "execution_count": 49,
     "metadata": {},
     "output_type": "execute_result"
    }
   ],
   "source": [
    "experiments.dataset[1]['network'][end_key].nodes['k']"
   ]
  },
  {
   "cell_type": "code",
   "execution_count": 50,
   "metadata": {},
   "outputs": [
    {
     "data": {
      "image/png": "[encoded data removed]",
      "text/plain": [
       "<Figure size 432x288 with 1 Axes>"
      ]
     },
     "metadata": {},
     "output_type": "display_data"
    }
   ],
   "source": [
    "draw_net(end_key)"
   ]
  },
  {
   "cell_type": "code",
   "execution_count": 51,
   "metadata": {},
   "outputs": [],
   "source": [
    "# End network State\n",
    "G = experiments.dataset[1]['network'][end_key]\n",
    "pos = nx.spring_layout(G)"
   ]
  },
  {
   "cell_type": "code",
   "execution_count": 52,
   "metadata": {},
   "outputs": [
    {
     "data": {
      "image/png": "[encoded data removed]",
      "text/plain": [
       "<Figure size 432x288 with 1 Axes>"
      ]
     },
     "metadata": {},
     "output_type": "display_data"
    }
   ],
   "source": [
    "#nx.draw(G)\n",
    "nx.draw_networkx_nodes(G, pos, node_size=700)\n",
    "nx.draw_networkx_edges(G, pos, width=4)\n",
    "nx.draw_networkx_labels(G, pos, font_size=10, font_family='sans-serif')\n",
    "plt.axis('off')\n",
    "plt.show()"
   ]
  },
  {
   "cell_type": "code",
   "execution_count": 53,
   "metadata": {},
   "outputs": [],
   "source": [
    "def message_metrics(node_name):\n",
    "    i_message_list = list(filter(any, experiments.dataset[1]['network'][end_key].nodes[str(node_name)]['current_storage'])) \n",
    "    # convert to array\n",
    "    i_message_array = np.array(i_message_list)\n",
    "    #print(message_array)\n",
    "    # sum of sizes of messages without repeats representing the lower bound, if every node only stored the file once\n",
    "    total = np.nansum(i_message_array[:,1])\n",
    "    mean = total / len(i_message_array)\n",
    "    total_freq = np.nansum(i_message_array[:,2])\n",
    "    freq = total_freq / len(i_message_array)\n",
    "    \n",
    "    return print('Node ', node_name, \": Average Stored Size = \", format(mean, \".2f\"), \", Average Frequency = \", format(freq, \".2f\"))"
   ]
  },
  {
   "cell_type": "code",
   "execution_count": 54,
   "metadata": {},
   "outputs": [
    {
     "name": "stdout",
     "output_type": "stream",
     "text": [
      "Node  i : Average Stored Size =  45.45 , Average Frequency =  3.36\n",
      "Node  j : Average Stored Size =  124.75 , Average Frequency =  2.00\n",
      "Node  k : Average Stored Size =  108.07 , Average Frequency =  2.16\n"
     ]
    }
   ],
   "source": [
    "message_metrics('i')\n",
    "message_metrics('j')\n",
    "message_metrics('k')"
   ]
  },
  {
   "cell_type": "code",
   "execution_count": 55,
   "metadata": {},
   "outputs": [
    {
     "name": "stdout",
     "output_type": "stream",
     "text": [
      "Storage Efficiency =  49.7%\n"
     ]
    }
   ],
   "source": [
    "storage_efficiency = experiments.dataset[1]['least_storage_demand'][end_key] / experiments.dataset[1]['gross_storage_demand'][end_key]\n",
    "print(\"Storage Efficiency = \",format(storage_efficiency, \".1%\"))"
   ]
  },
  {
   "cell_type": "code",
   "execution_count": 56,
   "metadata": {},
   "outputs": [],
   "source": [
    "def failed_message(node_name):\n",
    "    message_list = list(filter(any, experiments.dataset[1]['network'][end_key].nodes[str(node_name)]['current_storage'])) \n",
    "    # convert to array\n",
    "    message_array = np.array(message_list)\n",
    "    fail_message = np.where(message_array[:,0] == 0)\n",
    "    fail_count = message_array[fail_message,2]\n",
    "    if fail_count.size == 0:\n",
    "        fail_count = 0\n",
    "    else:\n",
    "        fail_count = fail_count[0][0]\n",
    "    return print(\"Node \", node_name, \": Failed Messages =\", fail_count)"
   ]
  },
  {
   "cell_type": "code",
   "execution_count": 57,
   "metadata": {},
   "outputs": [
    {
     "name": "stdout",
     "output_type": "stream",
     "text": [
      "Node  i : Failed Messages = 0\n",
      "Node  j : Failed Messages = 0\n",
      "Node  k : Failed Messages = 0\n"
     ]
    }
   ],
   "source": [
    "failed_message('i')\n",
    "failed_message('j')\n",
    "failed_message('k')"
   ]
  },
  {
   "cell_type": "code",
   "execution_count": 58,
   "metadata": {},
   "outputs": [
    {
     "data": {
      "text/plain": [
       "AtlasView({'j': {'traffic': 88}, 'k': {'traffic': 13095}})"
      ]
     },
     "execution_count": 58,
     "metadata": {},
     "output_type": "execute_result"
    }
   ],
   "source": [
    "experiments.dataset[1]['network'][end_key].adj['i']"
   ]
  },
  {
   "cell_type": "code",
   "execution_count": 59,
   "metadata": {},
   "outputs": [
    {
     "data": {
      "text/plain": [
       "AtlasView({'j': {'traffic': 0}})"
      ]
     },
     "execution_count": 59,
     "metadata": {},
     "output_type": "execute_result"
    }
   ],
   "source": [
    "experiments.dataset[1]['network'][end_key].adj['k']"
   ]
  },
  {
   "cell_type": "code",
   "execution_count": 60,
   "metadata": {},
   "outputs": [
    {
     "data": {
      "image/png": "[encoded data removed]",
      "text/plain": [
       "<Figure size 432x288 with 1 Axes>"
      ]
     },
     "metadata": {},
     "output_type": "display_data"
    }
   ],
   "source": [
    "G = experiments.dataset[1]['network'][time_ten]\n",
    "\n",
    "uppest_traffic = [(u, v) for (u, v, d) in G.edges(data=True) if d['traffic'] > 75]\n",
    "upper_traffic = [(u, v) for (u, v, d) in G.edges(data=True) if 75 > d['traffic'] > 50]\n",
    "lower_traffic = [(u, v) for (u, v, d) in G.edges(data=True) if 50 > d['traffic'] > 25]\n",
    "lowest_traffic = [(u, v) for (u, v, d) in G.edges(data=True) if d['traffic'] < 25]\n",
    "\n",
    "pos = nx.spring_layout(G)\n",
    "nx.draw_networkx_nodes(G, pos, node_size=700)\n",
    "# for i in edge_traffic:\n",
    "nx.draw_networkx_labels(G, pos, font_size=10, font_family='sans-serif')    \n",
    "# nx.draw_networkx_edges(G, pos, width=1, edge_list=lowest_traffic, edge_color='g')\n",
    "# nx.draw_networkx_edges(G, pos, width=7, edge_list=uppest_traffic, edge_color='b')\n",
    "nx.draw_networkx_edges(G, pos, width=5, edge_list=upper_traffic)\n",
    "# nx.draw_networkx_edges(G, pos, edge_list=lower_traffic)\n",
    "\n",
    "\n",
    "\n",
    "\n",
    "plt.axis('off')\n",
    "plt.show()"
   ]
  },
  {
   "cell_type": "code",
   "execution_count": 61,
   "metadata": {},
   "outputs": [
    {
     "data": {
      "text/plain": [
       "OutEdgeView([('i', 'j'), ('i', 'k'), ('j', 'p'), ('k', 'j')])"
      ]
     },
     "execution_count": 61,
     "metadata": {},
     "output_type": "execute_result"
    }
   ],
   "source": [
    " G.edges"
   ]
  },
  {
   "cell_type": "code",
   "execution_count": 62,
   "metadata": {},
   "outputs": [
    {
     "name": "stdout",
     "output_type": "stream",
     "text": [
      "115\n",
      "341\n",
      "0\n",
      "0\n"
     ]
    }
   ],
   "source": [
    "for (u, v, d) in G.edges(data=True):\n",
    "    print(d['traffic'])"
   ]
  },
  {
   "cell_type": "code",
   "execution_count": 63,
   "metadata": {},
   "outputs": [],
   "source": [
    "# edge_color=colors,\n",
    "#         width=4, edge_cmap=plt.cm.Blues, with_labels=False"
   ]
  },
  {
   "cell_type": "code",
   "execution_count": 64,
   "metadata": {},
   "outputs": [
    {
     "data": {
      "text/plain": [
       "[('i', 'j'), ('i', 'k')]"
      ]
     },
     "execution_count": 64,
     "metadata": {},
     "output_type": "execute_result"
    }
   ],
   "source": [
    "uppest_traffic"
   ]
  },
  {
   "cell_type": "code",
   "execution_count": 65,
   "metadata": {},
   "outputs": [
    {
     "data": {
      "text/plain": [
       "[]"
      ]
     },
     "execution_count": 65,
     "metadata": {},
     "output_type": "execute_result"
    }
   ],
   "source": [
    "upper_traffic"
   ]
  },
  {
   "cell_type": "code",
   "execution_count": 66,
   "metadata": {},
   "outputs": [
    {
     "data": {
      "text/plain": [
       "[('j', 'p'), ('k', 'j')]"
      ]
     },
     "execution_count": 66,
     "metadata": {},
     "output_type": "execute_result"
    }
   ],
   "source": [
    "lowest_traffic"
   ]
  },
  {
   "cell_type": "code",
   "execution_count": 67,
   "metadata": {},
   "outputs": [],
   "source": [
    "temp_list = [1,2,3]"
   ]
  },
  {
   "cell_type": "code",
   "execution_count": 68,
   "metadata": {},
   "outputs": [
    {
     "data": {
      "text/plain": [
       "[1, 2, 3]"
      ]
     },
     "execution_count": 68,
     "metadata": {},
     "output_type": "execute_result"
    }
   ],
   "source": [
    "temp_list.copy()"
   ]
  },
  {
   "cell_type": "code",
   "execution_count": null,
   "metadata": {},
   "outputs": [],
   "source": []
  },
  {
   "cell_type": "code",
   "execution_count": null,
   "metadata": {},
   "outputs": [],
   "source": []
  }
 ],
 "metadata": {
  "kernelspec": {
   "display_name": "Python 3",
   "language": "python",
   "name": "python3"
  },
  "language_info": {
   "codemirror_mode": {
    "name": "ipython",
    "version": 3
   },
   "file_extension": ".py",
   "mimetype": "text/x-python",
   "name": "python",
   "nbconvert_exporter": "python",
   "pygments_lexer": "ipython3",
   "version": "3.6.5"
  }
 },
 "nbformat": 4,
 "nbformat_minor": 2
}
