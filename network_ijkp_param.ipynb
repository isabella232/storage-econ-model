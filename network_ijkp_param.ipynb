{
 "cells": [
  {
   "cell_type": "code",
   "execution_count": 1,
   "metadata": {},
   "outputs": [],
   "source": [
    "import networkx as nx\n",
    "import matplotlib.pyplot as plt\n",
    "import numpy as np\n",
    "import pandas as pd\n",
    "%matplotlib inline"
   ]
  },
  {
   "cell_type": "markdown",
   "metadata": {},
   "source": [
    "#### Node Attributes\n",
    "1. Outfacing Edge \n",
    "2. Infacing Edge  \n",
    "3. What can be estimated (Object of node's estimates about  another node) \n",
    "4. What can be controlled  (Object)\n",
    "5. In bandwidth constraint \n",
    "6. Out bandwidth contraint \n",
    "7. List of messages a node has \n",
    "8. Message Sizes\n",
    "8. Storage Capacity for each node"
   ]
  },
  {
   "cell_type": "markdown",
   "metadata": {},
   "source": [
    "Edge bandwidth constraint should be min(inbound bandwidth at j, outbound bandwidth at i)"
   ]
  },
  {
   "cell_type": "code",
   "execution_count": 2,
   "metadata": {},
   "outputs": [
    {
     "name": "stdout",
     "output_type": "stream",
     "text": [
      "[{'N': 1, 'T': range(0, 365), 'M': {'block_time': 30, 'i_storage': 500, 'i_in_bandwidth': 500, 'i_out_bandwidth': 140, 'j_storage': 1000, 'j_in_bandwidth': 400, 'j_out_bandwidth': 100, 'p_storage': 4000, 'p_in_bandwidth': 400, 'p_out_bandwidth': 600, 'k_storage': 8000, 'k_in_bandwidth': 400, 'k_out_bandwidth': 80}}, {'N': 1, 'T': range(0, 365), 'M': {'block_time': 30, 'i_storage': 500, 'i_in_bandwidth': 1234, 'i_out_bandwidth': 140, 'j_storage': 1000, 'j_in_bandwidth': 400, 'j_out_bandwidth': 100, 'p_storage': 4000, 'p_in_bandwidth': 400, 'p_out_bandwidth': 600, 'k_storage': 8000, 'k_in_bandwidth': 400, 'k_out_bandwidth': 80}}, {'N': 1, 'T': range(0, 365), 'M': {'block_time': 30, 'i_storage': 500, 'i_in_bandwidth': 5678, 'i_out_bandwidth': 140, 'j_storage': 1000, 'j_in_bandwidth': 400, 'j_out_bandwidth': 100, 'p_storage': 4000, 'p_in_bandwidth': 400, 'p_out_bandwidth': 600, 'k_storage': 8000, 'k_in_bandwidth': 400, 'k_out_bandwidth': 80}}]\n",
      "[{'N': 1, 'T': range(0, 365), 'M': {'block_time': 30, 'i_storage': 500, 'i_in_bandwidth': 500, 'i_out_bandwidth': 140, 'j_storage': 1000, 'j_in_bandwidth': 400, 'j_out_bandwidth': 100, 'p_storage': 4000, 'p_in_bandwidth': 400, 'p_out_bandwidth': 600, 'k_storage': 8000, 'k_in_bandwidth': 400, 'k_out_bandwidth': 80}}, {'N': 1, 'T': range(0, 365), 'M': {'block_time': 30, 'i_storage': 500, 'i_in_bandwidth': 1234, 'i_out_bandwidth': 140, 'j_storage': 1000, 'j_in_bandwidth': 400, 'j_out_bandwidth': 100, 'p_storage': 4000, 'p_in_bandwidth': 400, 'p_out_bandwidth': 600, 'k_storage': 8000, 'k_in_bandwidth': 400, 'k_out_bandwidth': 80}}, {'N': 1, 'T': range(0, 365), 'M': {'block_time': 30, 'i_storage': 500, 'i_in_bandwidth': 5678, 'i_out_bandwidth': 140, 'j_storage': 1000, 'j_in_bandwidth': 400, 'j_out_bandwidth': 100, 'p_storage': 4000, 'p_in_bandwidth': 400, 'p_out_bandwidth': 600, 'k_storage': 8000, 'k_in_bandwidth': 400, 'k_out_bandwidth': 80}}]\n",
      "[{'N': 1, 'T': range(0, 365), 'M': {'block_time': 30, 'i_storage': 500, 'i_in_bandwidth': 500, 'i_out_bandwidth': 140, 'j_storage': 1000, 'j_in_bandwidth': 400, 'j_out_bandwidth': 100, 'p_storage': 4000, 'p_in_bandwidth': 400, 'p_out_bandwidth': 600, 'k_storage': 8000, 'k_in_bandwidth': 400, 'k_out_bandwidth': 80}}, {'N': 1, 'T': range(0, 365), 'M': {'block_time': 30, 'i_storage': 500, 'i_in_bandwidth': 1234, 'i_out_bandwidth': 140, 'j_storage': 1000, 'j_in_bandwidth': 400, 'j_out_bandwidth': 100, 'p_storage': 4000, 'p_in_bandwidth': 400, 'p_out_bandwidth': 600, 'k_storage': 8000, 'k_in_bandwidth': 400, 'k_out_bandwidth': 80}}, {'N': 1, 'T': range(0, 365), 'M': {'block_time': 30, 'i_storage': 500, 'i_in_bandwidth': 5678, 'i_out_bandwidth': 140, 'j_storage': 1000, 'j_in_bandwidth': 400, 'j_out_bandwidth': 100, 'p_storage': 4000, 'p_in_bandwidth': 400, 'p_out_bandwidth': 600, 'k_storage': 8000, 'k_in_bandwidth': 400, 'k_out_bandwidth': 80}}]\n"
     ]
    }
   ],
   "source": [
    "from src.sim import run"
   ]
  },
  {
   "cell_type": "code",
   "execution_count": 3,
   "metadata": {},
   "outputs": [
    {
     "name": "stdout",
     "output_type": "stream",
     "text": [
      "\n",
      "                            __________   ____ \n",
      "          ________ __ _____/ ____/   |  / __ \\\n",
      "         / ___/ __` / __  / /   / /| | / / / /\n",
      "        / /__/ /_/ / /_/ / /___/ ___ |/ /_/ / \n",
      "        \\___/\\__,_/\\__,_/\\____/_/  |_/_____/  \n",
      "        by BlockScience\n",
      "        \n",
      "Execution Mode: multi_proc: [<cadCAD.configuration.Configuration object at 0x000001C99A97E6A0>, <cadCAD.configuration.Configuration object at 0x000001C99A97E6D8>, <cadCAD.configuration.Configuration object at 0x000001C99A97EB38>]\n",
      "Configurations: [<cadCAD.configuration.Configuration object at 0x000001C99A97E6A0>, <cadCAD.configuration.Configuration object at 0x000001C99A97E6D8>, <cadCAD.configuration.Configuration object at 0x000001C99A97EB38>]\n"
     ]
    }
   ],
   "source": [
    "experiments = run.run()"
   ]
  },
  {
   "cell_type": "code",
   "execution_count": 4,
   "metadata": {},
   "outputs": [
    {
     "name": "stdout",
     "output_type": "stream",
     "text": [
      "   index  block_time  i_storage  i_in_bandwidth  i_out_bandwidth  j_storage  \\\n",
      "0      0          30        500             500              140       1000   \n",
      "1      0          30        500            1234              140       1000   \n",
      "2      0          30        500            5678              140       1000   \n",
      "\n",
      "   j_in_bandwidth  j_out_bandwidth  p_storage  p_in_bandwidth  \\\n",
      "0             400              100       4000             400   \n",
      "1             400              100       4000             400   \n",
      "2             400              100       4000             400   \n",
      "\n",
      "   p_out_bandwidth  k_storage  k_in_bandwidth  k_out_bandwidth  \\\n",
      "0              600       8000             400               80   \n",
      "1              600       8000             400               80   \n",
      "2              600       8000             400               80   \n",
      "\n",
      "                                             dataset  \n",
      "0        timestamp message_array  \\\n",
      "0    2020-01-...  \n",
      "1        timestamp message_array  \\\n",
      "0    2020-01-...  \n",
      "2        timestamp message_array  \\\n",
      "0    2020-01-...  \n"
     ]
    }
   ],
   "source": [
    "print(experiments)"
   ]
  },
  {
   "cell_type": "code",
   "execution_count": 5,
   "metadata": {},
   "outputs": [
    {
     "data": {
      "text/plain": [
       "1460"
      ]
     },
     "execution_count": 5,
     "metadata": {},
     "output_type": "execute_result"
    }
   ],
   "source": [
    "end_key = (len(experiments.dataset[0])-1) * max(experiments.dataset[0]['substep'])\n",
    "end_key"
   ]
  },
  {
   "cell_type": "code",
   "execution_count": 6,
   "metadata": {},
   "outputs": [
    {
     "data": {
      "text/plain": [
       "<networkx.classes.digraph.DiGraph at 0x1c99aa751d0>"
      ]
     },
     "execution_count": 6,
     "metadata": {},
     "output_type": "execute_result"
    }
   ],
   "source": [
    "time_ten = max(experiments.dataset[0]['substep']) * 10\n",
    "experiments.dataset[0]['network'][time_ten] "
   ]
  },
  {
   "cell_type": "code",
   "execution_count": 7,
   "metadata": {},
   "outputs": [],
   "source": [
    "# nunique = experiments[[item for item in experiments.columns if item not in ['dataset']]].applymap(str).apply(pd.Series.nunique)\n",
    "# cols_to_drop = nunique[nunique == 1].index\n",
    "# experiments_full = experiments.copy()\n",
    "# experiments = experiments.drop(cols_to_drop, axis=1)\n",
    "# experiments = experiments_full"
   ]
  },
  {
   "cell_type": "code",
   "execution_count": 8,
   "metadata": {},
   "outputs": [
    {
     "data": {
      "text/html": [
       "<div>\n",
       "<style scoped>\n",
       "    .dataframe tbody tr th:only-of-type {\n",
       "        vertical-align: middle;\n",
       "    }\n",
       "\n",
       "    .dataframe tbody tr th {\n",
       "        vertical-align: top;\n",
       "    }\n",
       "\n",
       "    .dataframe thead th {\n",
       "        text-align: right;\n",
       "    }\n",
       "</style>\n",
       "<table border=\"1\" class=\"dataframe\">\n",
       "  <thead>\n",
       "    <tr style=\"text-align: right;\">\n",
       "      <th></th>\n",
       "      <th>index</th>\n",
       "      <th>block_time</th>\n",
       "      <th>i_storage</th>\n",
       "      <th>i_in_bandwidth</th>\n",
       "      <th>i_out_bandwidth</th>\n",
       "      <th>j_storage</th>\n",
       "      <th>j_in_bandwidth</th>\n",
       "      <th>j_out_bandwidth</th>\n",
       "      <th>p_storage</th>\n",
       "      <th>p_in_bandwidth</th>\n",
       "      <th>p_out_bandwidth</th>\n",
       "      <th>k_storage</th>\n",
       "      <th>k_in_bandwidth</th>\n",
       "      <th>k_out_bandwidth</th>\n",
       "      <th>dataset</th>\n",
       "    </tr>\n",
       "  </thead>\n",
       "  <tbody>\n",
       "    <tr>\n",
       "      <th>0</th>\n",
       "      <td>0</td>\n",
       "      <td>30</td>\n",
       "      <td>500</td>\n",
       "      <td>500</td>\n",
       "      <td>140</td>\n",
       "      <td>1000</td>\n",
       "      <td>400</td>\n",
       "      <td>100</td>\n",
       "      <td>4000</td>\n",
       "      <td>400</td>\n",
       "      <td>600</td>\n",
       "      <td>8000</td>\n",
       "      <td>400</td>\n",
       "      <td>80</td>\n",
       "      <td>timestamp message_array  \\\n",
       "0    2020-01-...</td>\n",
       "    </tr>\n",
       "    <tr>\n",
       "      <th>1</th>\n",
       "      <td>0</td>\n",
       "      <td>30</td>\n",
       "      <td>500</td>\n",
       "      <td>1234</td>\n",
       "      <td>140</td>\n",
       "      <td>1000</td>\n",
       "      <td>400</td>\n",
       "      <td>100</td>\n",
       "      <td>4000</td>\n",
       "      <td>400</td>\n",
       "      <td>600</td>\n",
       "      <td>8000</td>\n",
       "      <td>400</td>\n",
       "      <td>80</td>\n",
       "      <td>timestamp message_array  \\\n",
       "0    2020-01-...</td>\n",
       "    </tr>\n",
       "    <tr>\n",
       "      <th>2</th>\n",
       "      <td>0</td>\n",
       "      <td>30</td>\n",
       "      <td>500</td>\n",
       "      <td>5678</td>\n",
       "      <td>140</td>\n",
       "      <td>1000</td>\n",
       "      <td>400</td>\n",
       "      <td>100</td>\n",
       "      <td>4000</td>\n",
       "      <td>400</td>\n",
       "      <td>600</td>\n",
       "      <td>8000</td>\n",
       "      <td>400</td>\n",
       "      <td>80</td>\n",
       "      <td>timestamp message_array  \\\n",
       "0    2020-01-...</td>\n",
       "    </tr>\n",
       "  </tbody>\n",
       "</table>\n",
       "</div>"
      ],
      "text/plain": [
       "   index  block_time  i_storage  i_in_bandwidth  i_out_bandwidth  j_storage  \\\n",
       "0      0          30        500             500              140       1000   \n",
       "1      0          30        500            1234              140       1000   \n",
       "2      0          30        500            5678              140       1000   \n",
       "\n",
       "   j_in_bandwidth  j_out_bandwidth  p_storage  p_in_bandwidth  \\\n",
       "0             400              100       4000             400   \n",
       "1             400              100       4000             400   \n",
       "2             400              100       4000             400   \n",
       "\n",
       "   p_out_bandwidth  k_storage  k_in_bandwidth  k_out_bandwidth  \\\n",
       "0              600       8000             400               80   \n",
       "1              600       8000             400               80   \n",
       "2              600       8000             400               80   \n",
       "\n",
       "                                             dataset  \n",
       "0        timestamp message_array  \\\n",
       "0    2020-01-...  \n",
       "1        timestamp message_array  \\\n",
       "0    2020-01-...  \n",
       "2        timestamp message_array  \\\n",
       "0    2020-01-...  "
      ]
     },
     "execution_count": 8,
     "metadata": {},
     "output_type": "execute_result"
    }
   ],
   "source": [
    "experiments.head()"
   ]
  },
  {
   "cell_type": "code",
   "execution_count": 9,
   "metadata": {},
   "outputs": [],
   "source": [
    "end_of_first_experiment = experiments.dataset[0]"
   ]
  },
  {
   "cell_type": "code",
   "execution_count": 10,
   "metadata": {},
   "outputs": [
    {
     "data": {
      "text/plain": [
       "[1345682176, 119, 1]"
      ]
     },
     "execution_count": 10,
     "metadata": {},
     "output_type": "execute_result"
    }
   ],
   "source": [
    "experiments.dataset[0]['demand'][end_key]"
   ]
  },
  {
   "cell_type": "code",
   "execution_count": 11,
   "metadata": {},
   "outputs": [
    {
     "data": {
      "text/plain": [
       "[[1345682944, 143, 5],\n",
       " [1345683776, 169, 3],\n",
       " [1345684480, 191, 7],\n",
       " [1345679008, 20, 5],\n",
       " [1345681408, 95, 3],\n",
       " [1345681088, 85, 1],\n",
       " [1345683968, 175, 5],\n",
       " [1345680672, 72, 1],\n",
       " [1345678752, 12, 5],\n",
       " [1345682368, 125, 5],\n",
       " [1345679904, 48, 13],\n",
       " [1345682048, 115, 1],\n",
       " [1345678848, 15, 11],\n",
       " [1345684736, 199, 5],\n",
       " [1345679520, 36, 3]]"
      ]
     },
     "execution_count": 11,
     "metadata": {},
     "output_type": "execute_result"
    }
   ],
   "source": [
    "# Remove None from message list\n",
    "message_list = list(filter(any, experiments.dataset[0]['message_list'][end_key])) \n",
    "# message_list = [i for i in experiments.dataset[0]['message_list'][540] if i] \n",
    "message_list[0:15]"
   ]
  },
  {
   "cell_type": "code",
   "execution_count": 12,
   "metadata": {},
   "outputs": [
    {
     "data": {
      "text/plain": [
       "499"
      ]
     },
     "execution_count": 12,
     "metadata": {},
     "output_type": "execute_result"
    }
   ],
   "source": [
    "experiments.dataset[0]['network'][time_ten].nodes['i']['current_capacity']"
   ]
  },
  {
   "cell_type": "code",
   "execution_count": 13,
   "metadata": {},
   "outputs": [
    {
     "data": {
      "text/plain": [
       "array([[1345682944,        143,          5],\n",
       "       [1345683776,        169,          3],\n",
       "       [1345684480,        191,          7],\n",
       "       [1345679008,         20,          5],\n",
       "       [1345681408,         95,          3]])"
      ]
     },
     "execution_count": 13,
     "metadata": {},
     "output_type": "execute_result"
    }
   ],
   "source": [
    "message_array = np.array(message_list[0:5])\n",
    "message_array"
   ]
  },
  {
   "cell_type": "code",
   "execution_count": 14,
   "metadata": {},
   "outputs": [
    {
     "data": {
      "text/plain": [
       "618"
      ]
     },
     "execution_count": 14,
     "metadata": {},
     "output_type": "execute_result"
    }
   ],
   "source": [
    "# Lower limit of Message Storage Demand , No Double Storage\n",
    "message_array[:,1].sum()"
   ]
  },
  {
   "cell_type": "code",
   "execution_count": 15,
   "metadata": {},
   "outputs": [
    {
     "data": {
      "text/plain": [
       "180269708"
      ]
     },
     "execution_count": 15,
     "metadata": {},
     "output_type": "execute_result"
    }
   ],
   "source": [
    "message_array[:,1:2].prod()"
   ]
  },
  {
   "cell_type": "code",
   "execution_count": 16,
   "metadata": {},
   "outputs": [
    {
     "data": {
      "text/plain": [
       "array([ 715,  507, 1337,  100,  285])"
      ]
     },
     "execution_count": 16,
     "metadata": {},
     "output_type": "execute_result"
    }
   ],
   "source": [
    "np.multiply(message_array[:,1], message_array[:,2])"
   ]
  },
  {
   "cell_type": "code",
   "execution_count": 17,
   "metadata": {},
   "outputs": [
    {
     "data": {
      "text/plain": [
       "2944"
      ]
     },
     "execution_count": 17,
     "metadata": {},
     "output_type": "execute_result"
    }
   ],
   "source": [
    "np.sum(np.multiply(message_array[:,1], message_array[:,2]))"
   ]
  },
  {
   "cell_type": "code",
   "execution_count": 18,
   "metadata": {},
   "outputs": [
    {
     "data": {
      "text/plain": [
       "[1345678496, 4, 1]"
      ]
     },
     "execution_count": 18,
     "metadata": {},
     "output_type": "execute_result"
    }
   ],
   "source": [
    "experiments.dataset[0]['arrival'][time_ten]"
   ]
  },
  {
   "cell_type": "code",
   "execution_count": 19,
   "metadata": {},
   "outputs": [
    {
     "data": {
      "text/plain": [
       "[1345682368, 125, 1]"
      ]
     },
     "execution_count": 19,
     "metadata": {},
     "output_type": "execute_result"
    }
   ],
   "source": [
    "experiments.dataset[0]['demand'][time_ten]"
   ]
  },
  {
   "cell_type": "code",
   "execution_count": 20,
   "metadata": {},
   "outputs": [
    {
     "data": {
      "text/plain": [
       "1087"
      ]
     },
     "execution_count": 20,
     "metadata": {},
     "output_type": "execute_result"
    }
   ],
   "source": [
    "experiments.dataset[0]['gross_storage_demand'][time_ten]"
   ]
  },
  {
   "cell_type": "code",
   "execution_count": 21,
   "metadata": {},
   "outputs": [
    {
     "data": {
      "text/plain": [
       "1087"
      ]
     },
     "execution_count": 21,
     "metadata": {},
     "output_type": "execute_result"
    }
   ],
   "source": [
    "experiments.dataset[0]['least_storage_demand'][time_ten]"
   ]
  },
  {
   "cell_type": "code",
   "execution_count": 22,
   "metadata": {},
   "outputs": [
    {
     "data": {
      "text/plain": [
       "500"
      ]
     },
     "execution_count": 22,
     "metadata": {},
     "output_type": "execute_result"
    }
   ],
   "source": [
    "experiments.dataset[1]['network'][end_key].nodes['i']['current_capacity']"
   ]
  },
  {
   "cell_type": "code",
   "execution_count": 23,
   "metadata": {},
   "outputs": [
    {
     "data": {
      "text/plain": [
       "{'neighbor_estimate': {},\n",
       " 'storage_capacity': [500],\n",
       " 'current_storage': [[None, None, None],\n",
       "  [None, None, None],\n",
       "  [1345682944, 143, 5],\n",
       "  [1345683776, 169, 3],\n",
       "  [1345679008, 20, 5],\n",
       "  [1345681408, 95, 3],\n",
       "  [1345680672, 72, 1],\n",
       "  [1345678400, 1, 3]],\n",
       " 'current_capacity': 500,\n",
       " 'inband': 500,\n",
       " 'outband': [140],\n",
       " 'message_history': [[None, None, None], [None, None, None]],\n",
       " 'control': []}"
      ]
     },
     "execution_count": 23,
     "metadata": {},
     "output_type": "execute_result"
    }
   ],
   "source": [
    "experiments.dataset[0]['network'][end_key].nodes['i']"
   ]
  },
  {
   "cell_type": "code",
   "execution_count": 24,
   "metadata": {},
   "outputs": [
    {
     "data": {
      "text/plain": [
       "{'neighbor_estimate': {},\n",
       " 'storage_capacity': [500],\n",
       " 'current_storage': [[None, None, None],\n",
       "  [None, None, None],\n",
       "  [1345681696, 104, 1],\n",
       "  [1345682624, 133, 7],\n",
       "  [1345680960, 81, 7],\n",
       "  [1345683264, 153, 3],\n",
       "  [1345678944, 18, 5],\n",
       "  [1345678688, 10, 5],\n",
       "  [1345678400, 1, 5]],\n",
       " 'current_capacity': 500,\n",
       " 'inband': 1234,\n",
       " 'outband': [140],\n",
       " 'message_history': [[None, None, None], [None, None, None]],\n",
       " 'control': []}"
      ]
     },
     "execution_count": 24,
     "metadata": {},
     "output_type": "execute_result"
    }
   ],
   "source": [
    "experiments.dataset[1]['network'][end_key].nodes['i']"
   ]
  },
  {
   "cell_type": "code",
   "execution_count": 25,
   "metadata": {},
   "outputs": [
    {
     "data": {
      "text/plain": [
       "{'neighbor_estimate': {},\n",
       " 'storage_capacity': [500],\n",
       " 'current_storage': [[None, None, None],\n",
       "  [None, None, None],\n",
       "  [1345684480, 191, 1],\n",
       "  [1345678528, 5, 1],\n",
       "  [1345681408, 95, 1],\n",
       "  [1345681280, 91, 1],\n",
       "  [1345678912, 17, 1],\n",
       "  [1345679904, 48, 1],\n",
       "  [1345679584, 38, 1]],\n",
       " 'current_capacity': 485,\n",
       " 'inband': 5678,\n",
       " 'outband': [140],\n",
       " 'message_history': [[None, None, None], [None, None, None]],\n",
       " 'control': []}"
      ]
     },
     "execution_count": 25,
     "metadata": {},
     "output_type": "execute_result"
    }
   ],
   "source": [
    "experiments.dataset[2]['network'][time_ten].nodes['i']"
   ]
  },
  {
   "cell_type": "code",
   "execution_count": 26,
   "metadata": {
    "scrolled": false
   },
   "outputs": [
    {
     "data": {
      "text/plain": [
       "{'neighbor_estimate': {'storage from i': 215,\n",
       "  'storage from k': 0,\n",
       "  'messages from i': 311,\n",
       "  'messages from k': 124},\n",
       " 'storage_capacity': [1000],\n",
       " 'current_storage': [[None, None, None],\n",
       "  [None, None, None],\n",
       "  [1345681120, 86, 7],\n",
       "  [1345682848, 140, 7],\n",
       "  [1345683616, 164, 1],\n",
       "  [1345684544, 193, 1],\n",
       "  [1345680480, 66, 5],\n",
       "  [1345681888, 110, 5],\n",
       "  [1345683712, 167, 5],\n",
       "  [1345684160, 181, 5],\n",
       "  [1345683584, 163, 1],\n",
       "  [1345679168, 25, 5],\n",
       "  [1345684480, 191, 3],\n",
       "  [1345682592, 132, 3],\n",
       "  [1345683680, 166, 7],\n",
       "  [1345680928, 80, 3],\n",
       "  [1345681568, 100, 3],\n",
       "  [1345682240, 121, 9],\n",
       "  [1345683808, 170, 3],\n",
       "  [1345679712, 42, 5],\n",
       "  [1345680736, 74, 3],\n",
       "  [1345680608, 70, 1],\n",
       "  [1345684256, 184, 7],\n",
       "  [1345683136, 149, 7],\n",
       "  [1345682112, 117, 9],\n",
       "  [1345684064, 178, 5],\n",
       "  [1345682400, 126, 3],\n",
       "  [1345684416, 189, 7],\n",
       "  [1345680224, 58, 3],\n",
       "  [1345679008, 20, 3],\n",
       "  [1345683776, 169, 1],\n",
       "  [1345683392, 157, 11],\n",
       "  [1345683968, 175, 5],\n",
       "  [1345679840, 46, 3],\n",
       "  [1345682208, 120, 1],\n",
       "  [1345682656, 134, 7],\n",
       "  [1345681280, 91, 1],\n",
       "  [1345678752, 12, 9],\n",
       "  [1345680640, 71, 5],\n",
       "  [1345684640, 196, 5],\n",
       "  [1345681216, 89, 3],\n",
       "  [1345684448, 190, 7],\n",
       "  [1345678816, 14, 1],\n",
       "  [1345683840, 171, 5],\n",
       "  [1345683168, 150, 5],\n",
       "  [1345684224, 183, 5],\n",
       "  [1345679808, 45, 1],\n",
       "  [1345682720, 136, 5],\n",
       "  [1345683936, 174, 5],\n",
       "  [1345680288, 60, 5],\n",
       "  [1345680864, 78, 5],\n",
       "  [1345680160, 56, 3],\n",
       "  [1345679232, 27, 7],\n",
       "  [1345683424, 158, 5],\n",
       "  [1345679744, 43, 1],\n",
       "  [1345680672, 72, 1],\n",
       "  [1345682560, 131, 5],\n",
       "  [1345680832, 77, 3],\n",
       "  [1345684128, 180, 3],\n",
       "  [1345678912, 17, 3],\n",
       "  [1345679904, 48, 3],\n",
       "  [1345680544, 68, 3],\n",
       "  [1345680896, 79, 7],\n",
       "  [1345683360, 156, 3],\n",
       "  [1345679456, 34, 1],\n",
       "  [1345684512, 192, 7],\n",
       "  [1345679680, 41, 7],\n",
       "  [1345684032, 177, 1],\n",
       "  [1345681504, 98, 3],\n",
       "  [1345683296, 154, 7],\n",
       "  [1345679936, 49, 1],\n",
       "  [1345678976, 19, 3],\n",
       "  [1345681344, 93, 7],\n",
       "  [1345678560, 6, 5],\n",
       "  [1345681088, 85, 3],\n",
       "  [1345682816, 139, 5],\n",
       "  [1345679360, 31, 1],\n",
       "  [1345680000, 51, 5],\n",
       "  [1345682752, 137, 3],\n",
       "  [1345682880, 141, 1],\n",
       "  [1345682272, 122, 7],\n",
       "  [1345678784, 13, 1],\n",
       "  [1345681984, 113, 3],\n",
       "  [1345680096, 54, 3],\n",
       "  [1345678432, 2, 5]],\n",
       " 'current_capacity': 1000,\n",
       " 'inband': [400],\n",
       " 'outband': [100],\n",
       " 'message_history': [[None, None, None],\n",
       "  [None, None, None],\n",
       "  [1345678880, 16, 4],\n",
       "  [1345678688, 10, 7],\n",
       "  [1345678496, 4, 4],\n",
       "  [1345679488, 35, 4],\n",
       "  [0, 0, 613],\n",
       "  [1345680000, 51, 1],\n",
       "  [1345680768, 75, 1],\n",
       "  [1345680576, 69, 2],\n",
       "  [1345678528, 5, 4],\n",
       "  [1345681504, 98, 1],\n",
       "  [1345678976, 19, 4],\n",
       "  [1345679904, 48, 2],\n",
       "  [1345678720, 11, 2],\n",
       "  [1345680480, 66, 1],\n",
       "  [1345678784, 13, 2],\n",
       "  [1345680032, 52, 1],\n",
       "  [1345679008, 20, 3],\n",
       "  [1345678560, 6, 8],\n",
       "  [1345679136, 24, 1],\n",
       "  [1345679296, 29, 4],\n",
       "  [1345679648, 40, 3],\n",
       "  [1345680256, 59, 2],\n",
       "  [1345680960, 81, 1],\n",
       "  [1345679584, 38, 1],\n",
       "  [1345679520, 36, 3],\n",
       "  [1345680288, 60, 1],\n",
       "  [1345680384, 63, 1],\n",
       "  [1345679392, 32, 2],\n",
       "  [1345679744, 43, 2],\n",
       "  [1345679424, 33, 4],\n",
       "  [1345679168, 25, 2],\n",
       "  [1345680192, 57, 1],\n",
       "  [1345679872, 47, 3],\n",
       "  [1345678656, 9, 1],\n",
       "  [1345678848, 15, 2],\n",
       "  [1345680160, 56, 2],\n",
       "  [1345679808, 45, 1],\n",
       "  [1345680672, 72, 1],\n",
       "  [1345680864, 78, 1],\n",
       "  [1345678432, 2, 2],\n",
       "  [1345679712, 42, 3],\n",
       "  [1345679936, 49, 3],\n",
       "  [1345679072, 22, 1],\n",
       "  [1345680704, 73, 1],\n",
       "  [1345678464, 3, 3],\n",
       "  [1345679616, 39, 2],\n",
       "  [1345678592, 7, 2],\n",
       "  [1345680640, 71, 1],\n",
       "  [1345680416, 64, 1],\n",
       "  [1345678912, 17, 2],\n",
       "  [1345681152, 87, 1]],\n",
       " 'control': []}"
      ]
     },
     "execution_count": 26,
     "metadata": {},
     "output_type": "execute_result"
    }
   ],
   "source": [
    "experiments.dataset[1]['network'][end_key].nodes['j']"
   ]
  },
  {
   "cell_type": "code",
   "execution_count": 27,
   "metadata": {},
   "outputs": [
    {
     "data": {
      "text/plain": [
       "{'neighbor_estimate': {'storage from i': 116, 'messages from i': 347},\n",
       " 'storage_capacity': [8000],\n",
       " 'current_storage': [[None, None, None],\n",
       "  [None, None, None],\n",
       "  [1345683232, 152, 1],\n",
       "  [1345684320, 186, 5],\n",
       "  [1345680704, 73, 5],\n",
       "  [1345684096, 179, 3],\n",
       "  [1345682304, 123, 7],\n",
       "  [1345680800, 76, 1],\n",
       "  [1345681856, 109, 3],\n",
       "  [1345682144, 118, 1],\n",
       "  [1345683520, 161, 3],\n",
       "  [1345681440, 96, 1],\n",
       "  [1345681376, 94, 7],\n",
       "  [1345682912, 142, 7],\n",
       "  [1345682432, 127, 13],\n",
       "  [1345682496, 129, 3],\n",
       "  [1345680320, 61, 3],\n",
       "  [1345679584, 38, 3],\n",
       "  [1345681536, 99, 1],\n",
       "  [1345681056, 84, 3],\n",
       "  [1345679136, 24, 7],\n",
       "  [1345680352, 62, 3],\n",
       "  [1345683552, 162, 1],\n",
       "  [1345678464, 3, 7],\n",
       "  [1345684672, 197, 1],\n",
       "  [1345684352, 187, 1],\n",
       "  [1345680576, 69, 3],\n",
       "  [1345681152, 87, 3],\n",
       "  [1345681408, 95, 7],\n",
       "  [1345679520, 36, 1],\n",
       "  [1345680448, 65, 5],\n",
       "  [1345681024, 83, 7],\n",
       "  [1345683008, 145, 1],\n",
       "  [1345679968, 50, 3],\n",
       "  [1345683040, 146, 3],\n",
       "  [1345681248, 90, 1],\n",
       "  [1345682080, 116, 3],\n",
       "  [1345678656, 9, 1],\n",
       "  [1345679648, 40, 3],\n",
       "  [1345682464, 128, 1],\n",
       "  [1345678528, 5, 3],\n",
       "  [1345678880, 16, 1],\n",
       "  [1345682784, 138, 1],\n",
       "  [1345679104, 23, 1],\n",
       "  [1345680512, 67, 3],\n",
       "  [1345684000, 176, 3],\n",
       "  [1345679552, 37, 1],\n",
       "  [1345684288, 185, 1],\n",
       "  [1345681184, 88, 5],\n",
       "  [1345680416, 64, 1],\n",
       "  [1345681824, 108, 1],\n",
       "  [1345683104, 148, 5],\n",
       "  [1345683072, 147, 3],\n",
       "  [1345682016, 114, 1],\n",
       "  [1345682368, 125, 1],\n",
       "  [1345679296, 29, 1],\n",
       "  [1345682336, 124, 3],\n",
       "  [1345679872, 47, 1],\n",
       "  [1345684736, 199, 1],\n",
       "  [1345678848, 15, 1],\n",
       "  [1345681632, 102, 1],\n",
       "  [1345678496, 4, 1]],\n",
       " 'current_capacity': 7996,\n",
       " 'inband': [400],\n",
       " 'outband': [80],\n",
       " 'message_history': [[None, None, None],\n",
       "  [None, None, None],\n",
       "  [1345678880, 16, 4],\n",
       "  [1345678688, 10, 7],\n",
       "  [1345678496, 4, 4],\n",
       "  [1345679488, 35, 4],\n",
       "  [0, 0, 613],\n",
       "  [1345680576, 69, 2],\n",
       "  [1345681504, 98, 1],\n",
       "  [1345679008, 20, 3],\n",
       "  [1345678560, 6, 8],\n",
       "  [1345680960, 81, 1],\n",
       "  [1345680384, 63, 1],\n",
       "  [1345679168, 25, 2],\n",
       "  [1345679520, 36, 1],\n",
       "  [1345678976, 19, 1],\n",
       "  [1345678848, 15, 2],\n",
       "  [1345680160, 56, 2],\n",
       "  [1345680864, 78, 1],\n",
       "  [1345679712, 42, 3],\n",
       "  [1345679936, 49, 3],\n",
       "  [1345679616, 39, 2],\n",
       "  [1345678592, 7, 2],\n",
       "  [1345680416, 64, 1],\n",
       "  [1345679648, 40, 1],\n",
       "  [1345678912, 17, 2],\n",
       "  [1345678464, 3, 3],\n",
       "  [1345681152, 87, 1],\n",
       "  [1345678720, 11, 1],\n",
       "  [1345681088, 85, 1],\n",
       "  [1345679776, 44, 1],\n",
       "  [1345679200, 26, 1],\n",
       "  [1345679968, 50, 1],\n",
       "  [1345679040, 21, 3],\n",
       "  [1345678656, 9, 1],\n",
       "  [1345679104, 23, 1],\n",
       "  [1345680480, 66, 2],\n",
       "  [1345681120, 86, 1],\n",
       "  [1345678816, 14, 1],\n",
       "  [1345681024, 83, 1],\n",
       "  [1345679904, 48, 2],\n",
       "  [1345679232, 27, 2],\n",
       "  [1345680992, 82, 1],\n",
       "  [1345678752, 12, 1],\n",
       "  [1345680672, 72, 1],\n",
       "  [1345678432, 2, 4],\n",
       "  [1345679872, 47, 1],\n",
       "  [1345680608, 70, 1],\n",
       "  [1345679264, 28, 1]],\n",
       " 'control': []}"
      ]
     },
     "execution_count": 27,
     "metadata": {},
     "output_type": "execute_result"
    }
   ],
   "source": [
    "experiments.dataset[1]['network'][end_key].nodes['k']"
   ]
  },
  {
   "cell_type": "code",
   "execution_count": 28,
   "metadata": {},
   "outputs": [],
   "source": [
    "# End network State\n",
    "G = experiments.dataset[1]['network'][end_key]\n",
    "pos = nx.spring_layout(G)"
   ]
  },
  {
   "cell_type": "code",
   "execution_count": 29,
   "metadata": {},
   "outputs": [
    {
     "data": {
      "image/png": "[encoded data removed]",
      "text/plain": [
       "<Figure size 432x288 with 1 Axes>"
      ]
     },
     "metadata": {},
     "output_type": "display_data"
    }
   ],
   "source": [
    "#nx.draw(G)\n",
    "nx.draw_networkx_nodes(G, pos, node_size=700)\n",
    "nx.draw_networkx_edges(G, pos, width=4)\n",
    "nx.draw_networkx_labels(G, pos, font_size=10, font_family='sans-serif')\n",
    "plt.axis('off')\n",
    "plt.show()"
   ]
  },
  {
   "cell_type": "code",
   "execution_count": 30,
   "metadata": {},
   "outputs": [],
   "source": [
    "def message_metrics(node_name):\n",
    "    i_message_list = list(filter(any, experiments.dataset[1]['network'][end_key].nodes[str(node_name)]['current_storage'])) \n",
    "    # convert to array\n",
    "    i_message_array = np.array(i_message_list)\n",
    "    #print(message_array)\n",
    "    # sum of sizes of messages without repeats representing the lower bound, if every node only stored the file once\n",
    "    total = np.nansum(i_message_array[:,1])\n",
    "    mean = total / len(i_message_array)\n",
    "    total_freq = np.nansum(i_message_array[:,2])\n",
    "    freq = total_freq / len(i_message_array)\n",
    "    \n",
    "    return print('Node ', node_name, \": Average Stored Size = \", format(mean, \".2f\"), \", Average Frequency = \", format(freq, \".2f\"))"
   ]
  },
  {
   "cell_type": "code",
   "execution_count": 31,
   "metadata": {},
   "outputs": [
    {
     "name": "stdout",
     "output_type": "stream",
     "text": [
      "Node  i : Average Stored Size =  71.43 , Average Frequency =  4.71\n",
      "Node  j : Average Stored Size =  105.86 , Average Frequency =  4.18\n",
      "Node  k : Average Stored Size =  96.70 , Average Frequency =  2.87\n"
     ]
    }
   ],
   "source": [
    "message_metrics('i')\n",
    "message_metrics('j')\n",
    "message_metrics('k')"
   ]
  },
  {
   "cell_type": "code",
   "execution_count": 32,
   "metadata": {},
   "outputs": [
    {
     "name": "stdout",
     "output_type": "stream",
     "text": [
      "Storage Efficiency =  27.4%\n"
     ]
    }
   ],
   "source": [
    "storage_efficiency = experiments.dataset[1]['least_storage_demand'][end_key] / experiments.dataset[1]['gross_storage_demand'][end_key]\n",
    "print(\"Storage Efficiency = \",format(storage_efficiency, \".1%\"))"
   ]
  },
  {
   "cell_type": "code",
   "execution_count": 33,
   "metadata": {},
   "outputs": [],
   "source": [
    "def failed_message(node_name):\n",
    "    message_list = list(filter(any, experiments.dataset[1]['network'][end_key].nodes[str(node_name)]['current_storage'])) \n",
    "    # convert to array\n",
    "    message_array = np.array(message_list)\n",
    "    fail_message = np.where(message_array[:,0] == 0)\n",
    "    fail_count = message_array[fail_message,2]\n",
    "    if fail_count.size == 0:\n",
    "        fail_count = 0\n",
    "    else:\n",
    "        fail_count = fail_count[0][0]\n",
    "    return print(\"Node \", node_name, \": Failed Messages =\", fail_count)"
   ]
  },
  {
   "cell_type": "code",
   "execution_count": 34,
   "metadata": {},
   "outputs": [
    {
     "name": "stdout",
     "output_type": "stream",
     "text": [
      "Node  i : Failed Messages = 0\n",
      "Node  j : Failed Messages = 0\n",
      "Node  k : Failed Messages = 0\n"
     ]
    }
   ],
   "source": [
    "failed_message('i')\n",
    "failed_message('j')\n",
    "failed_message('k')"
   ]
  },
  {
   "cell_type": "code",
   "execution_count": 35,
   "metadata": {},
   "outputs": [
    {
     "data": {
      "text/plain": [
       "AtlasView({'j': {'traffic': 148}, 'k': {'traffic': 0}})"
      ]
     },
     "execution_count": 35,
     "metadata": {},
     "output_type": "execute_result"
    }
   ],
   "source": [
    "experiments.dataset[1]['network'][end_key].adj['i']"
   ]
  },
  {
   "cell_type": "code",
   "execution_count": 36,
   "metadata": {},
   "outputs": [
    {
     "data": {
      "text/plain": [
       "AtlasView({'j': {'traffic': 59}})"
      ]
     },
     "execution_count": 36,
     "metadata": {},
     "output_type": "execute_result"
    }
   ],
   "source": [
    "experiments.dataset[1]['network'][end_key].adj['k']"
   ]
  },
  {
   "cell_type": "code",
   "execution_count": 37,
   "metadata": {},
   "outputs": [
    {
     "data": {
      "image/png": "[encoded data removed]",
      "text/plain": [
       "<Figure size 432x288 with 1 Axes>"
      ]
     },
     "metadata": {},
     "output_type": "display_data"
    }
   ],
   "source": [
    "G = experiments.dataset[1]['network'][time_ten]\n",
    "\n",
    "uppest_traffic = [(u, v) for (u, v, d) in G.edges(data=True) if d['traffic'] > 75]\n",
    "upper_traffic = [(u, v) for (u, v, d) in G.edges(data=True) if 75 > d['traffic'] > 50]\n",
    "lower_traffic = [(u, v) for (u, v, d) in G.edges(data=True) if 50 > d['traffic'] > 25]\n",
    "lowest_traffic = [(u, v) for (u, v, d) in G.edges(data=True) if d['traffic'] < 25]\n",
    "\n",
    "pos = nx.spring_layout(G)\n",
    "nx.draw_networkx_nodes(G, pos, node_size=700)\n",
    "# for i in edge_traffic:\n",
    "nx.draw_networkx_labels(G, pos, font_size=10, font_family='sans-serif')    \n",
    "# nx.draw_networkx_edges(G, pos, width=1, edge_list=lowest_traffic, edge_color='g')\n",
    "# nx.draw_networkx_edges(G, pos, width=7, edge_list=uppest_traffic, edge_color='b')\n",
    "nx.draw_networkx_edges(G, pos, width=5, edge_list=upper_traffic)\n",
    "# nx.draw_networkx_edges(G, pos, edge_list=lower_traffic)\n",
    "\n",
    "\n",
    "\n",
    "\n",
    "plt.axis('off')\n",
    "plt.show()"
   ]
  },
  {
   "cell_type": "code",
   "execution_count": 38,
   "metadata": {},
   "outputs": [
    {
     "data": {
      "text/plain": [
       "OutEdgeView([('i', 'j'), ('i', 'k'), ('j', 'p'), ('k', 'j')])"
      ]
     },
     "execution_count": 38,
     "metadata": {},
     "output_type": "execute_result"
    }
   ],
   "source": [
    " G.edges"
   ]
  },
  {
   "cell_type": "code",
   "execution_count": 39,
   "metadata": {},
   "outputs": [
    {
     "name": "stdout",
     "output_type": "stream",
     "text": [
      "76\n",
      "0\n",
      "0\n",
      "10\n"
     ]
    }
   ],
   "source": [
    "for (u, v, d) in G.edges(data=True):\n",
    "    print(d['traffic'])"
   ]
  },
  {
   "cell_type": "code",
   "execution_count": 40,
   "metadata": {},
   "outputs": [],
   "source": [
    "# edge_color=colors,\n",
    "#         width=4, edge_cmap=plt.cm.Blues, with_labels=False"
   ]
  },
  {
   "cell_type": "code",
   "execution_count": 41,
   "metadata": {},
   "outputs": [
    {
     "data": {
      "text/plain": [
       "[('i', 'j')]"
      ]
     },
     "execution_count": 41,
     "metadata": {},
     "output_type": "execute_result"
    }
   ],
   "source": [
    "uppest_traffic"
   ]
  },
  {
   "cell_type": "code",
   "execution_count": 42,
   "metadata": {},
   "outputs": [
    {
     "data": {
      "text/plain": [
       "[]"
      ]
     },
     "execution_count": 42,
     "metadata": {},
     "output_type": "execute_result"
    }
   ],
   "source": [
    "upper_traffic"
   ]
  },
  {
   "cell_type": "code",
   "execution_count": 43,
   "metadata": {},
   "outputs": [
    {
     "data": {
      "text/plain": [
       "[('i', 'k'), ('j', 'p'), ('k', 'j')]"
      ]
     },
     "execution_count": 43,
     "metadata": {},
     "output_type": "execute_result"
    }
   ],
   "source": [
    "lowest_traffic"
   ]
  },
  {
   "cell_type": "code",
   "execution_count": 44,
   "metadata": {},
   "outputs": [],
   "source": [
    "temp_list = [1,2,3]"
   ]
  },
  {
   "cell_type": "code",
   "execution_count": 45,
   "metadata": {},
   "outputs": [
    {
     "data": {
      "text/plain": [
       "[1, 2, 3]"
      ]
     },
     "execution_count": 45,
     "metadata": {},
     "output_type": "execute_result"
    }
   ],
   "source": [
    "temp_list.copy()"
   ]
  },
  {
   "cell_type": "code",
   "execution_count": null,
   "metadata": {},
   "outputs": [],
   "source": []
  }
 ],
 "metadata": {
  "kernelspec": {
   "display_name": "Python 3",
   "language": "python",
   "name": "python3"
  },
  "language_info": {
   "codemirror_mode": {
    "name": "ipython",
    "version": 3
   },
   "file_extension": ".py",
   "mimetype": "text/x-python",
   "name": "python",
   "nbconvert_exporter": "python",
   "pygments_lexer": "ipython3",
   "version": "3.6.5"
  }
 },
 "nbformat": 4,
 "nbformat_minor": 2
}
