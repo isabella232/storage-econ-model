{
 "cells": [
  {
   "cell_type": "code",
   "execution_count": 1,
   "metadata": {},
   "outputs": [
    {
     "name": "stdout",
     "output_type": "stream",
     "text": [
      "[{'N': 20, 'T': range(0, 100), 'M': {'block_time': 30, 'i_storage': 500, 'i_in_bandwidth': 1234, 'i_out_bandwidth': 140, 'j_storage': 500, 'i_wallet': 10000, 'j_in_bandwidth': 400, 'j_out_bandwidth': 100, 'j_wallet': 0, 'p_storage': 4000, 'p_in_bandwidth': 400, 'p_out_bandwidth': 600, 'p_wallet': 0, 'k_storage': 8000, 'k_in_bandwidth': 400, 'k_out_bandwidth': 80, 'k_wallet': 0, 'r_storage': 8000, 'r_in_bandwidth': 400, 'r_out_bandwidth': 80, 'r_wallet': 0, 'j_avail_to_i': 0.9, 'k_avail_to_i': 0.8, 'j_avail_to_k': 0.7, 'p_avail_to_i': 0.6, 'depth': 15, 'tax_%': 0.1, 'subsidy_escrow': 0.1, 'subsidy_treasury': 0.1, 'route_allocation': 0.1, 'store_allocation': 0.45, 'prove_allocation': 0.45, 'starting_treasury': 0, 'j_prove_likelihood': 0.95}}, {'N': 20, 'T': range(0, 100), 'M': {'block_time': 30, 'i_storage': 500, 'i_in_bandwidth': 1234, 'i_out_bandwidth': 140, 'j_storage': 500, 'i_wallet': 10000, 'j_in_bandwidth': 400, 'j_out_bandwidth': 100, 'j_wallet': 0, 'p_storage': 4000, 'p_in_bandwidth': 400, 'p_out_bandwidth': 600, 'p_wallet': 0, 'k_storage': 8000, 'k_in_bandwidth': 400, 'k_out_bandwidth': 80, 'k_wallet': 0, 'r_storage': 8000, 'r_in_bandwidth': 400, 'r_out_bandwidth': 80, 'r_wallet': 0, 'j_avail_to_i': 0.9, 'k_avail_to_i': 0.8, 'j_avail_to_k': 0.7, 'p_avail_to_i': 0.6, 'depth': 15, 'tax_%': 0.1, 'subsidy_escrow': 0.1, 'subsidy_treasury': 0.1, 'route_allocation': 0.1, 'store_allocation': 0.45, 'prove_allocation': 0.45, 'starting_treasury': 1000, 'j_prove_likelihood': 0.95}}, {'N': 20, 'T': range(0, 100), 'M': {'block_time': 30, 'i_storage': 500, 'i_in_bandwidth': 1234, 'i_out_bandwidth': 140, 'j_storage': 500, 'i_wallet': 10000, 'j_in_bandwidth': 400, 'j_out_bandwidth': 100, 'j_wallet': 0, 'p_storage': 4000, 'p_in_bandwidth': 400, 'p_out_bandwidth': 600, 'p_wallet': 0, 'k_storage': 8000, 'k_in_bandwidth': 400, 'k_out_bandwidth': 80, 'k_wallet': 0, 'r_storage': 8000, 'r_in_bandwidth': 400, 'r_out_bandwidth': 80, 'r_wallet': 0, 'j_avail_to_i': 0.9, 'k_avail_to_i': 0.8, 'j_avail_to_k': 0.7, 'p_avail_to_i': 0.6, 'depth': 15, 'tax_%': 0.1, 'subsidy_escrow': 0.1, 'subsidy_treasury': 0.1, 'route_allocation': 0.1, 'store_allocation': 0.45, 'prove_allocation': 0.45, 'starting_treasury': 2000, 'j_prove_likelihood': 0.95}}]\n",
      "[{'N': 20, 'T': range(0, 100), 'M': {'block_time': 30, 'i_storage': 500, 'i_in_bandwidth': 1234, 'i_out_bandwidth': 140, 'j_storage': 500, 'i_wallet': 10000, 'j_in_bandwidth': 400, 'j_out_bandwidth': 100, 'j_wallet': 0, 'p_storage': 4000, 'p_in_bandwidth': 400, 'p_out_bandwidth': 600, 'p_wallet': 0, 'k_storage': 8000, 'k_in_bandwidth': 400, 'k_out_bandwidth': 80, 'k_wallet': 0, 'r_storage': 8000, 'r_in_bandwidth': 400, 'r_out_bandwidth': 80, 'r_wallet': 0, 'j_avail_to_i': 0.9, 'k_avail_to_i': 0.8, 'j_avail_to_k': 0.7, 'p_avail_to_i': 0.6, 'depth': 15, 'tax_%': 0.1, 'subsidy_escrow': 0.1, 'subsidy_treasury': 0.1, 'route_allocation': 0.1, 'store_allocation': 0.45, 'prove_allocation': 0.45, 'starting_treasury': 0, 'j_prove_likelihood': 0.95}}, {'N': 20, 'T': range(0, 100), 'M': {'block_time': 30, 'i_storage': 500, 'i_in_bandwidth': 1234, 'i_out_bandwidth': 140, 'j_storage': 500, 'i_wallet': 10000, 'j_in_bandwidth': 400, 'j_out_bandwidth': 100, 'j_wallet': 0, 'p_storage': 4000, 'p_in_bandwidth': 400, 'p_out_bandwidth': 600, 'p_wallet': 0, 'k_storage': 8000, 'k_in_bandwidth': 400, 'k_out_bandwidth': 80, 'k_wallet': 0, 'r_storage': 8000, 'r_in_bandwidth': 400, 'r_out_bandwidth': 80, 'r_wallet': 0, 'j_avail_to_i': 0.9, 'k_avail_to_i': 0.8, 'j_avail_to_k': 0.7, 'p_avail_to_i': 0.6, 'depth': 15, 'tax_%': 0.1, 'subsidy_escrow': 0.1, 'subsidy_treasury': 0.1, 'route_allocation': 0.1, 'store_allocation': 0.45, 'prove_allocation': 0.45, 'starting_treasury': 1000, 'j_prove_likelihood': 0.95}}, {'N': 20, 'T': range(0, 100), 'M': {'block_time': 30, 'i_storage': 500, 'i_in_bandwidth': 1234, 'i_out_bandwidth': 140, 'j_storage': 500, 'i_wallet': 10000, 'j_in_bandwidth': 400, 'j_out_bandwidth': 100, 'j_wallet': 0, 'p_storage': 4000, 'p_in_bandwidth': 400, 'p_out_bandwidth': 600, 'p_wallet': 0, 'k_storage': 8000, 'k_in_bandwidth': 400, 'k_out_bandwidth': 80, 'k_wallet': 0, 'r_storage': 8000, 'r_in_bandwidth': 400, 'r_out_bandwidth': 80, 'r_wallet': 0, 'j_avail_to_i': 0.9, 'k_avail_to_i': 0.8, 'j_avail_to_k': 0.7, 'p_avail_to_i': 0.6, 'depth': 15, 'tax_%': 0.1, 'subsidy_escrow': 0.1, 'subsidy_treasury': 0.1, 'route_allocation': 0.1, 'store_allocation': 0.45, 'prove_allocation': 0.45, 'starting_treasury': 2000, 'j_prove_likelihood': 0.95}}]\n",
      "[{'N': 20, 'T': range(0, 100), 'M': {'block_time': 30, 'i_storage': 500, 'i_in_bandwidth': 1234, 'i_out_bandwidth': 140, 'j_storage': 500, 'i_wallet': 10000, 'j_in_bandwidth': 400, 'j_out_bandwidth': 100, 'j_wallet': 0, 'p_storage': 4000, 'p_in_bandwidth': 400, 'p_out_bandwidth': 600, 'p_wallet': 0, 'k_storage': 8000, 'k_in_bandwidth': 400, 'k_out_bandwidth': 80, 'k_wallet': 0, 'r_storage': 8000, 'r_in_bandwidth': 400, 'r_out_bandwidth': 80, 'r_wallet': 0, 'j_avail_to_i': 0.9, 'k_avail_to_i': 0.8, 'j_avail_to_k': 0.7, 'p_avail_to_i': 0.6, 'depth': 15, 'tax_%': 0.1, 'subsidy_escrow': 0.1, 'subsidy_treasury': 0.1, 'route_allocation': 0.1, 'store_allocation': 0.45, 'prove_allocation': 0.45, 'starting_treasury': 0, 'j_prove_likelihood': 0.95}}, {'N': 20, 'T': range(0, 100), 'M': {'block_time': 30, 'i_storage': 500, 'i_in_bandwidth': 1234, 'i_out_bandwidth': 140, 'j_storage': 500, 'i_wallet': 10000, 'j_in_bandwidth': 400, 'j_out_bandwidth': 100, 'j_wallet': 0, 'p_storage': 4000, 'p_in_bandwidth': 400, 'p_out_bandwidth': 600, 'p_wallet': 0, 'k_storage': 8000, 'k_in_bandwidth': 400, 'k_out_bandwidth': 80, 'k_wallet': 0, 'r_storage': 8000, 'r_in_bandwidth': 400, 'r_out_bandwidth': 80, 'r_wallet': 0, 'j_avail_to_i': 0.9, 'k_avail_to_i': 0.8, 'j_avail_to_k': 0.7, 'p_avail_to_i': 0.6, 'depth': 15, 'tax_%': 0.1, 'subsidy_escrow': 0.1, 'subsidy_treasury': 0.1, 'route_allocation': 0.1, 'store_allocation': 0.45, 'prove_allocation': 0.45, 'starting_treasury': 1000, 'j_prove_likelihood': 0.95}}, {'N': 20, 'T': range(0, 100), 'M': {'block_time': 30, 'i_storage': 500, 'i_in_bandwidth': 1234, 'i_out_bandwidth': 140, 'j_storage': 500, 'i_wallet': 10000, 'j_in_bandwidth': 400, 'j_out_bandwidth': 100, 'j_wallet': 0, 'p_storage': 4000, 'p_in_bandwidth': 400, 'p_out_bandwidth': 600, 'p_wallet': 0, 'k_storage': 8000, 'k_in_bandwidth': 400, 'k_out_bandwidth': 80, 'k_wallet': 0, 'r_storage': 8000, 'r_in_bandwidth': 400, 'r_out_bandwidth': 80, 'r_wallet': 0, 'j_avail_to_i': 0.9, 'k_avail_to_i': 0.8, 'j_avail_to_k': 0.7, 'p_avail_to_i': 0.6, 'depth': 15, 'tax_%': 0.1, 'subsidy_escrow': 0.1, 'subsidy_treasury': 0.1, 'route_allocation': 0.1, 'store_allocation': 0.45, 'prove_allocation': 0.45, 'starting_treasury': 2000, 'j_prove_likelihood': 0.95}}]\n"
     ]
    }
   ],
   "source": [
    "from src.sim import run\n",
    "import matplotlib.pyplot as plt\n"
   ]
  },
  {
   "cell_type": "code",
   "execution_count": 2,
   "metadata": {},
   "outputs": [
    {
     "name": "stdout",
     "output_type": "stream",
     "text": [
      "\n",
      "                            __________   ____ \n",
      "          ________ __ _____/ ____/   |  / __ \\\n",
      "         / ___/ __` / __  / /   / /| | / / / /\n",
      "        / /__/ /_/ / /_/ / /___/ ___ |/ /_/ / \n",
      "        \\___/\\__,_/\\__,_/\\____/_/  |_/_____/  \n",
      "        by BlockScience\n",
      "        \n",
      "Execution Mode: multi_proc: [<cadCAD.configuration.Configuration object at 0x00000273CDC7DB70>, <cadCAD.configuration.Configuration object at 0x00000273CDC7DBE0>, <cadCAD.configuration.Configuration object at 0x00000273CEF72DA0>]\n",
      "Configurations: [<cadCAD.configuration.Configuration object at 0x00000273CDC7DB70>, <cadCAD.configuration.Configuration object at 0x00000273CDC7DBE0>, <cadCAD.configuration.Configuration object at 0x00000273CEF72DA0>]\n"
     ]
    }
   ],
   "source": [
    "experiments = run.run()"
   ]
  },
  {
   "cell_type": "code",
   "execution_count": 5,
   "metadata": {},
   "outputs": [
    {
     "name": "stdout",
     "output_type": "stream",
     "text": [
      "    timestamp message_array  \\\n",
      "0  2020-01-01   [[0, 0, 0]]   \n",
      "11 2020-01-01   [[0, 0, 0]]   \n",
      "22 2020-01-01   [[0, 0, 0]]   \n",
      "33 2020-01-01   [[0, 0, 0]]   \n",
      "44 2020-01-01   [[0, 0, 0]]   \n",
      "\n",
      "                                         message_list  \\\n",
      "0            [[None, None, None], [None, None, None]]   \n",
      "11  [[None, None, None], [None, None, None], [1617...   \n",
      "22  [[None, None, None], [None, None, None], [1617...   \n",
      "33  [[None, None, None], [None, None, None], [1617...   \n",
      "44  [[None, None, None], [None, None, None], [1617...   \n",
      "\n",
      "                                   file_list                demand  \\\n",
      "0   [[None, None, None], [None, None, None]]                     0   \n",
      "11  [[None, None, None], [None, None, None]]   [1617457632, 46, 1]   \n",
      "22  [[None, None, None], [None, None, None]]  [1617461664, 172, 1]   \n",
      "33  [[None, None, None], [None, None, None]]  [1617459808, 114, 1]   \n",
      "44  [[None, None, None], [None, None, None]]   [1617457600, 45, 1]   \n",
      "\n",
      "                arrival                           message_arrival  \\\n",
      "0                     0  [[None, None, None], [None, None, None]]   \n",
      "11  [1617459104, 92, 1]                       [1617458336, 68, 1]   \n",
      "22  [1617458720, 80, 1]                       [1617457856, 53, 1]   \n",
      "33  [1617457472, 41, 1]                       [1617457792, 51, 1]   \n",
      "44  [1617457984, 57, 1]                       [1617456576, 13, 1]   \n",
      "\n",
      "            network  gross_storage_demand  least_storage_demand  PO  \\\n",
      "0   (i, j, k, p, r)                     0                     0   0   \n",
      "11  (i, j, k, p, r)                     0                     0   0   \n",
      "22  (i, j, k, p, r)                   218                   218   0   \n",
      "33  (i, j, k, p, r)                   332                   332   0   \n",
      "44  (i, j, k, p, r)                   377                   377   0   \n",
      "\n",
      "                                                event  \\\n",
      "0   <class 'src.sim.model.utils.Event'>: {'sending...   \n",
      "11  <class 'src.sim.model.utils.Event'>: {'sending...   \n",
      "22  <class 'src.sim.model.utils.Event'>: {'sending...   \n",
      "33  <class 'src.sim.model.utils.Event'>: {'sending...   \n",
      "44  <class 'src.sim.model.utils.Event'>: {'sending...   \n",
      "\n",
      "                                              history            angles  \\\n",
      "0   <class 'src.sim.model.utils.History'>: {'activ...  [0.0, 1.0, -1.0]   \n",
      "11  <class 'src.sim.model.utils.History'>: {'activ...  [0.0, 1.0, -1.0]   \n",
      "22  <class 'src.sim.model.utils.History'>: {'activ...  [0.0, 1.0, -1.0]   \n",
      "33  <class 'src.sim.model.utils.History'>: {'activ...  [0.0, 1.0, -1.0]   \n",
      "44  <class 'src.sim.model.utils.History'>: {'activ...  [0.0, 1.0, -1.0]   \n",
      "\n",
      "                                            zees  treasury  transit  run  \\\n",
      "0                               [0.0, 1.0, -1.0]       0.0      0.0    1   \n",
      "11  [0.0, 1.224744871391589, -1.224744871391589]       0.0     32.0    1   \n",
      "22  [0.0, 1.224744871391589, -1.224744871391589]       0.0     90.0    1   \n",
      "33  [0.0, 1.224744871391589, -1.224744871391589]       0.0    141.0    1   \n",
      "44  [0.0, 1.224744871391589, -1.224744871391589]       0.0    239.0    1   \n",
      "\n",
      "    substep  timestep  \n",
      "0         0         0  \n",
      "11       11         1  \n",
      "22       11         2  \n",
      "33       11         3  \n",
      "44       11         4  \n"
     ]
    }
   ],
   "source": [
    "print(experiments.dataset[0].head())"
   ]
  }
 ],
 "metadata": {
  "kernelspec": {
   "display_name": "Python 3",
   "language": "python",
   "name": "python3"
  },
  "language_info": {
   "codemirror_mode": {
    "name": "ipython",
    "version": 3
   },
   "file_extension": ".py",
   "mimetype": "text/x-python",
   "name": "python",
   "nbconvert_exporter": "python",
   "pygments_lexer": "ipython3",
   "version": "3.6.5"
  }
 },
 "nbformat": 4,
 "nbformat_minor": 2
}
