{
 "cells": [
  {
   "cell_type": "code",
   "execution_count": 3,
   "metadata": {},
   "outputs": [
    {
     "name": "stdout",
     "output_type": "stream",
     "text": [
      "[{'N': 5, 'T': range(0, 7300), 'M': {'block_time': 30}}]\n"
     ]
    }
   ],
   "source": [
    "\n",
    "from sim import run\n",
    "import matplotlib.pyplot as plt\n",
    "\n",
    "# in config.py\n",
    "# if test notebook is in /src\n",
    "# CHANGE\n",
    "# from model.state_variables import genesis_states\n",
    "# from model.partial_state_update_block import partial_state_update_block\n",
    "# from model.sys_params import sys_params as sys_params_A"
   ]
  },
  {
   "cell_type": "code",
   "execution_count": 4,
   "metadata": {},
   "outputs": [
    {
     "name": "stdout",
     "output_type": "stream",
     "text": [
      "\n",
      "                            __________   ____ \n",
      "          ________ __ _____/ ____/   |  / __ \\\n",
      "         / ___/ __` / __  / /   / /| | / / / /\n",
      "        / /__/ /_/ / /_/ / /___/ ___ |/ /_/ / \n",
      "        \\___/\\__,_/\\__,_/\\____/_/  |_/_____/  \n",
      "        by BlockScience\n",
      "        \n",
      "Execution Mode: multi_proc: [<cadCAD.configuration.Configuration object at 0x000001F1CB724EB8>]\n",
      "Configurations: [<cadCAD.configuration.Configuration object at 0x000001F1CB724EB8>]\n"
     ]
    }
   ],
   "source": [
    "experiments = run.run()"
   ]
  },
  {
   "cell_type": "code",
   "execution_count": null,
   "metadata": {},
   "outputs": [],
   "source": []
  }
 ],
 "metadata": {
  "kernelspec": {
   "display_name": "Python 3",
   "language": "python",
   "name": "python3"
  },
  "language_info": {
   "codemirror_mode": {
    "name": "ipython",
    "version": 3
   },
   "file_extension": ".py",
   "mimetype": "text/x-python",
   "name": "python",
   "nbconvert_exporter": "python",
   "pygments_lexer": "ipython3",
   "version": "3.6.5"
  }
 },
 "nbformat": 4,
 "nbformat_minor": 2
}
